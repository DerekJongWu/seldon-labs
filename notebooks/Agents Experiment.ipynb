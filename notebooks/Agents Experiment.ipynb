{
 "cells": [
  {
   "cell_type": "code",
   "execution_count": 2,
   "id": "3ce7dad2-a22f-4934-b1bd-e66d6dc1020f",
   "metadata": {},
   "outputs": [],
   "source": [
    "from crewai import Agent, Crew, Process, Task, LLM\n",
    "from crewai.project import CrewBase, agent, crew, task\n",
    "from crewai_tools import WebsiteSearchTool, ScrapeWebsiteTool, TXTSearchTool\n",
    "from crewai_tools import FileReadTool, CSVSearchTool\n",
    "from crewai.tools import BaseTool\n",
    "from bs4 import BeautifulSoup\n",
    "import requests\n",
    "from crewai.tools import tool\n",
    "import json\n",
    "import pandas as pd\n",
    "import json\n",
    "import os"
   ]
  },
  {
   "cell_type": "code",
   "execution_count": 3,
   "id": "bd2d09bb-03d7-4013-b356-6dcf73104250",
   "metadata": {},
   "outputs": [],
   "source": [
    "from langchain.llms import Ollama\n",
    "llm=LLM(model=\"ollama/llama3\", base_url=\"http://localhost:11434\")"
   ]
  },
  {
   "cell_type": "markdown",
   "id": "2996be0e-742c-4c71-bcf1-914a6f24ca4c",
   "metadata": {},
   "source": [
    "### Tools"
   ]
  },
  {
   "cell_type": "code",
   "execution_count": 4,
   "id": "baefa47a-05cd-4d1d-aeaf-79d5d134713e",
   "metadata": {},
   "outputs": [],
   "source": [
    "current_directory = os.getcwd()"
   ]
  },
  {
   "cell_type": "code",
   "execution_count": 5,
   "id": "dc8276de-50ab-438e-b1e4-9c6d694dd7cf",
   "metadata": {},
   "outputs": [
    {
     "data": {
      "text/plain": [
       "'/Users/derekwu/Desktop/seldon-labs/notebooks'"
      ]
     },
     "execution_count": 5,
     "metadata": {},
     "output_type": "execute_result"
    }
   ],
   "source": [
    "current_directory"
   ]
  },
  {
   "cell_type": "code",
   "execution_count": null,
   "id": "af205ec6-7abb-4d95-bc6c-318095dfca30",
   "metadata": {},
   "outputs": [],
   "source": [
    "# Read the Excel file\n",
    "cpd_df = pd.read_excel('cpd_documents.xlsx')\n",
    "\n",
    "# Convert the DataFrame to JSON\n",
    "json_data = cpd_df.to_json(orient='records',indent=4)\n",
    "\n",
    "# Write the JSON data to a file\n",
    "with open('cpd_documents.json', 'w') as f:\n",
    "    f.write(json_data)"
   ]
  },
  {
   "cell_type": "code",
   "execution_count": null,
   "id": "4e14f162-2545-4b5a-8b20-32f09a59e3ca",
   "metadata": {},
   "outputs": [],
   "source": [
    "# Read the Excel file\n",
    "news_df = pd.read_excel(\"news_dataset.xlsx\")\n",
    "\n",
    "# Convert the DataFrame to JSON\n",
    "json_data = news_df.to_json(orient='records',indent=4)\n",
    "\n",
    "# Write the JSON data to a file\n",
    "with open('news_dataset.json', 'w') as f:\n",
    "    f.write(json_data)"
   ]
  },
  {
   "cell_type": "code",
   "execution_count": null,
   "id": "f94ab43b-e6ba-4744-ae69-6a0a801c0767",
   "metadata": {},
   "outputs": [],
   "source": [
    "file_tool = FileReadTool()"
   ]
  },
  {
   "cell_type": "markdown",
   "id": "a0d0a9f8-3dc3-4e6d-8b71-12b444d32411",
   "metadata": {},
   "source": [
    "### Agents"
   ]
  },
  {
   "cell_type": "code",
   "execution_count": 6,
   "id": "66553f00-f70f-4a2f-bfe4-97fa364ebf3a",
   "metadata": {},
   "outputs": [],
   "source": [
    "agents = {'game theory expert': {'goal':  \"\"\"Analyze the all of the compiled research  \"\"\" , \n",
    "                                 'backstory': \"\"\"You are a world-renowed game theory expert. Your speciality is studying geopolitical events and looking at economic and \n",
    "                                                political factors to determine outcomes and payoffs for potential game theory scenarios\"\"\"\n",
    "                                },\n",
    "          'news researcher': {'goal': f\"\"\"Analyze the news articles in {current_directory}/cpd_documents.json and all the tariff related\n",
    "                                            government statements in {current_directory}/cpd_documents.json to model \n",
    "                                            the outcomes for the United States and Canada if tariffs are enacted\"\"\", \n",
    "                                 'backstory': \"\"\"You are a world-renowed game theory expert. Your speciality is studying geopolitical events and looking at economic and \n",
    "                                                political factors to determine outcomes and payoffs for potential game theory scenarios\"\"\"\n",
    "                             },\n",
    "          'political researcher': {'goal': f\"\"\"Analyze the news articles in {current_directory}/cpd_documents.json and all the tariff related\n",
    "                                                government statements in {current_directory}/cpd_documents.json to model \n",
    "                                                the outcomes for the United States and Canada if tariffs are enacted\"\"\", \n",
    "                                   'backstory': \"\"\"You are a world-renowed game theory expert. Your speciality is studying geopolitical events and \n",
    "                                                looking at economic and political factors to determine outcomes and payoffs for potential game theory scenarios\"\"\"\n",
    "                             }\n",
    "         }"
   ]
  },
  {
   "cell_type": "code",
   "execution_count": null,
   "id": "4bad4edb-d1cc-469d-8144-3936dbcaadef",
   "metadata": {},
   "outputs": [],
   "source": [
    "game_theory_agent = Agent(role=\"game theory expert\",\n",
    "                          goal=agents['game theory expert']['goal'],\n",
    "                          backstory=agents['game theory expert']['goal'],\n",
    "                          tools=[file_tool],\n",
    "                          llm=llm,\n",
    "                         )"
   ]
  },
  {
   "cell_type": "markdown",
   "id": "ae8b2e20-0b67-4dce-b8d1-cd8cee288d8e",
   "metadata": {},
   "source": [
    "### Tasks"
   ]
  },
  {
   "cell_type": "code",
   "execution_count": null,
   "id": "c3f2a218-f301-4832-9ea3-e62d5b849d4d",
   "metadata": {},
   "outputs": [],
   "source": [
    "task = {'payoff_modeling': {'description': \"\"\"Analyze all of recent news and official statements by the US administration and \n",
    "                                              predict the payoffs for the four different scenarios [(no tariff, no tariff), (no tariff, tariff)\n",
    "                                              (tariff, no tariff), (tariff, tariff)] of a trade war game between Canada and the US\"\"\",\n",
    "                            'expected output': \"\"\"For each of the four scenarios generate an economic payoff, international relations payoff, and \n",
    "                                                  domestic relations payoff for each player. The payoff should be between -50 and 50. After generating\n",
    "                                                  the payoffs, write a quicky summary explaining your reasoning.\n",
    "                                               \"\"\" \n",
    "                           },\n",
    "        'news_research': {'description': \"\"\"Analyze all of recent news and official statements by the US administration and \n",
    "                                              predict the payoffs for the four different scenarios [(no tariff, no tariff), (no tariff, tariff)\n",
    "                                              (tariff, no tariff), (tariff, tariff)] of a trade war game between Canada and the US\"\"\",\n",
    "                            'expected output': \"\"\"For each of the four scenarios generate an economic payoff, international relations payoff, and \n",
    "                                                  domestic relations payoff for each player. The payoff should be between -50 and 50. After generating\n",
    "                                                  the payoffs, write a quicky summary explaining your reasoning.\n",
    "                                               \"\"\" \n",
    "                           },\n",
    "        'political_research': {'description': \"\"\"Analyze all of recent news and official statements by the US administration and \n",
    "                                              predict the payoffs for the four different scenarios [(no tariff, no tariff), (no tariff, tariff)\n",
    "                                              (tariff, no tariff), (tariff, tariff)] of a trade war game between Canada and the US\"\"\",\n",
    "                            'expected output': \"\"\"For each of the four scenarios generate an economic payoff, international relations payoff, and \n",
    "                                                  domestic relations payoff for each player. The payoff should be between -50 and 50. After generating\n",
    "                                                  the payoffs, write a quicky summary explaining your reasoning.\n",
    "                                               \"\"\" \n",
    "                           }\n",
    "       }\n"
   ]
  },
  {
   "cell_type": "code",
   "execution_count": null,
   "id": "3d41f2d5-7295-4e39-bc1a-9ae9fa07d057",
   "metadata": {},
   "outputs": [],
   "source": [
    "payoff_task = Task(description=task['payoff_modeling']['description'],\n",
    "                   expected_output=task['payoff_modeling']['expected output'],\n",
    "                   agent=game_theory_agent\n",
    ")"
   ]
  },
  {
   "cell_type": "code",
   "execution_count": null,
   "id": "dda191c5-f272-430e-88b5-9f3a219394e3",
   "metadata": {},
   "outputs": [],
   "source": [
    "game_theory_crew = Crew(agents=[game_theory_agent],\n",
    "                        tasks=[payoff_task],\n",
    "                        process=Process.sequential,\n",
    "                        verbose=True\n",
    ")\n"
   ]
  },
  {
   "cell_type": "code",
   "execution_count": null,
   "id": "4b5abf61-0fae-4866-9a80-1fef0c52cdd3",
   "metadata": {},
   "outputs": [],
   "source": [
    "result = game_theory_crew.kickoff()\n",
    "print(\"Crew Execution Complete. Final report generated.\")\n",
    "print(result)"
   ]
  },
  {
   "cell_type": "code",
   "execution_count": null,
   "id": "3b05a4f7-4ee8-4227-ae6d-5da33f9b161f",
   "metadata": {},
   "outputs": [],
   "source": []
  },
  {
   "cell_type": "code",
   "execution_count": null,
   "id": "96e180fd-188f-4e0a-b20a-47a57c6926e2",
   "metadata": {},
   "outputs": [],
   "source": []
  }
 ],
 "metadata": {
  "kernelspec": {
   "display_name": "Python 3 (ipykernel)",
   "language": "python",
   "name": "python3"
  },
  "language_info": {
   "codemirror_mode": {
    "name": "ipython",
    "version": 3
   },
   "file_extension": ".py",
   "mimetype": "text/x-python",
   "name": "python",
   "nbconvert_exporter": "python",
   "pygments_lexer": "ipython3",
   "version": "3.12.2"
  }
 },
 "nbformat": 4,
 "nbformat_minor": 5
}

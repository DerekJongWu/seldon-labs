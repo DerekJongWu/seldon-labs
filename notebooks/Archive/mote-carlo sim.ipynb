{
 "cells": [
  {
   "cell_type": "markdown",
   "id": "07125264-53d7-46a0-a05b-b0a8538395fa",
   "metadata": {},
   "source": [
    "# Seldon Labs "
   ]
  },
  {
   "cell_type": "code",
   "execution_count": null,
   "id": "becbede3-8cb7-474b-af47-fcc23e4b23e1",
   "metadata": {},
   "outputs": [],
   "source": [
    "import sys\n",
    "sys.path.append('../')\n",
    "import pygambit as gbt\n",
    "import numpy as np\n",
    "from src.sampling import generate_distribution, generate_samples\n",
    "import matplotlib.pyplot as plt\n",
    "import pandas as pd"
   ]
  },
  {
   "cell_type": "markdown",
   "id": "cfa4f3be-ed08-4a04-a6de-ac64e5968b76",
   "metadata": {},
   "source": [
    "## Product v0.0"
   ]
  },
  {
   "attachments": {
    "22b9a64c-86da-471f-b9f1-5713750d5615.png": {
     "image/png": "[encoded data removed]"
    }
   },
   "cell_type": "markdown",
   "id": "d03c3918-a598-4a1c-8804-5c0ce1d8efb8",
   "metadata": {},
   "source": [
    "This notebook will experiment with the first version of Seldom Labs product. We will model payoffs as a random variable and run monte-carlo simulations of the game to understand the likely outcomes and possible black-swan events\n",
    "\n",
    "![Screenshot 2025-01-17 at 10.56.47 AM.png](attachment:22b9a64c-86da-471f-b9f1-5713750d5615.png)"
   ]
  },
  {
   "cell_type": "markdown",
   "id": "2cce0bf0-a387-4f55-9bbf-33a553521b33",
   "metadata": {},
   "source": [
    "### Players"
   ]
  },
  {
   "cell_type": "code",
   "execution_count": null,
   "id": "e911937e-3691-4d27-b46d-eb41af166696",
   "metadata": {},
   "outputs": [],
   "source": [
    "player_1 = 'China' \n",
    "player_2 = 'USA'"
   ]
  },
  {
   "cell_type": "markdown",
   "id": "2a514f14-64d6-4f82-843f-3fa8c46fc36c",
   "metadata": {},
   "source": [
    "### Monte-Carlo Simulation"
   ]
  },
  {
   "cell_type": "code",
   "execution_count": null,
   "id": "eb11346f-9d4b-4bae-beea-debf37966fb9",
   "metadata": {},
   "outputs": [],
   "source": [
    "def create_two_player_game(player1, player2, payoff1, payoff2):\n",
    "    \"\"\"\n",
    "    Create a Prisoner's Dilemma game using Pygambit.\n",
    "    \n",
    "    Parameters:\n",
    "    - cooperate_reward: Payoff when both players cooperate (default: -1)\n",
    "    - defect_reward: Payoff when both players defect (default: 0)\n",
    "    - temptation: Payoff for defecting while other cooperates (default: 1)\n",
    "    - sucker: Payoff for cooperating while other defects (default: -2)\n",
    "    \n",
    "    Returns:\n",
    "    - game: Pygambit strategic game object\n",
    "    \"\"\"\n",
    "    # Create a new strategic game with 2 players, 2 strategies each\n",
    "    game = gbt.Game.from_arrays(payoff1, payoff2)\n",
    "    \n",
    "    # Set the game title\n",
    "    game.title = \"Prisoner's Dilemma\"\n",
    "    \n",
    "    # Set player names\n",
    "    game.players[0].label = player1\n",
    "    game.players[1].label = player2\n",
    "    \n",
    "    # Set strategy labels for both players\n",
    "    game.players[0].strategies[0].label = \"Tariff\"\n",
    "    game.players[0].strategies[1].label = \"No Tariff\"\n",
    "    game.players[1].strategies[0].label = \"Tariff\"\n",
    "    game.players[1].strategies[1].label = \"No Tariff\"\n",
    "    \n",
    "    return game"
   ]
  },
  {
   "cell_type": "code",
   "execution_count": null,
   "id": "701a0aec-009b-484d-8fe2-26550f9cd019",
   "metadata": {},
   "outputs": [],
   "source": [
    "def payoffs_formula(gdp, trade_deficit, political): \n",
    "    return gdp + trade_deficit + political"
   ]
  },
  {
   "cell_type": "code",
   "execution_count": null,
   "id": "0a0f60af-ae55-4b77-b8b8-34471ed78bf8",
   "metadata": {},
   "outputs": [],
   "source": [
    "class Player(): \n",
    "    def __init__(self, data, player_name):\n",
    "        self.data = data \n",
    "        self.name = player_name\n",
    "        self.fit_distributions()\n",
    "        \n",
    "\n",
    "    def fit_distributions(self): \n",
    "        for scenario, variables in self.data.items():\n",
    "            for var, data in variables.items():\n",
    "                x_range, density, dist = generate_distribution(data['data_points'], method='kde')\n",
    "                data.update({'x_range': x_range, 'density': density, 'dist': dist})\n",
    "\n",
    "    def calculate_payoff(self, scenario, payoff_func):\n",
    "        gdp = float(generate_samples(self.data[scenario]['gdp']['dist'], num_samples=1)[0])\n",
    "        trade = float(generate_samples(self.data[scenario]['trade']['dist'], num_samples=1)[0])\n",
    "        political = float(generate_samples(self.data[scenario]['political']['dist'], num_samples=1)[0])\n",
    "        variables_used = {'gdp': gdp, \"trade\": trade, \"political\": political}\n",
    "        return variables_used, payoff_func(gdp, trade, political)\n",
    "        "
   ]
  },
  {
   "cell_type": "code",
   "execution_count": null,
   "id": "999ca2a9-54a2-4987-b1d7-2702ad673ab2",
   "metadata": {},
   "outputs": [],
   "source": [
    "def record_samples(scenario,samples_dictionary, record_dictionary): \n",
    "    for key in samples_dictionary: \n",
    "        record_dictionary[scenario][key].append(samples_dictionary[key])\n",
    "    return"
   ]
  },
  {
   "cell_type": "code",
   "execution_count": null,
   "id": "303e309b-b4a2-48f1-9a3c-813890d84688",
   "metadata": {},
   "outputs": [],
   "source": [
    "def record_results(df_dict, player1_samples, player2_samples, player1_payoffs, player2_payoffs, results, player_1, player_2): \n",
    "    # Record variables\n",
    "    for scenario in player1_samples:\n",
    "        for variable in player1_samples[scenario]: \n",
    "            df_dict[f'{player1.name}_{scenario}_{variable}'] = player1_samples[scenario][variable]\n",
    "\n",
    "    for scenario in player2_samples:\n",
    "        for variable in player2_samples[scenario]: \n",
    "            df_dict[f'{player2.name}_{scenario}_{variable}'] = player2_samples[scenario][variable]\n",
    "\n",
    "    # record payoffs and outcomes\n",
    "    for scenario in player1_payoffs:\n",
    "        df_dict[f'{player1.name}_{scenario}_payoffs'] = player1_payoffs[scenario]\n",
    "        \n",
    "    for scenario in player2_payoffs:\n",
    "        df_dict[f'{player2.name}_{scenario}_payoffs'] = player2_payoffs[scenario]\n",
    "\n",
    "    # record ouctomes \n",
    "    df_dict[f'{player1.name}_tariff_probability'] = player1_payoffs['tariff']\n",
    "    df_dict[f'{player1.name}_no_tariff_probability'] = player1_payoffs['no tariff']\n",
    "    df_dict[f'{player2.name}_tariff_probability'] = player2_payoffs['tariff']\n",
    "    df_dict[f'{player2.name}_no_tariff_probability'] = player2_payoffs['no tariff']"
   ]
  },
  {
   "cell_type": "code",
   "execution_count": null,
   "id": "c7c39017-db13-4e55-a246-79851ac63115",
   "metadata": {},
   "outputs": [],
   "source": [
    "player1_data = {\"tt\": {\"gdp\": {\"data_points\": [6.5, 5.7, 7]},\n",
    "                       \"trade\": {\"data_points\": [8.1, 6, 12]},\n",
    "                       \"political\": {\"data_points\": [0, -5, 5]},\n",
    "                      },\n",
    "                \"tnt\": {\"gdp\": {\"data_points\": [6.5, 5.7, 7]},\n",
    "                        \"trade\": {\"data_points\": [8.1, 6, 12]},\n",
    "                        \"political\": {\"data_points\": [-20, -5, 0]},\n",
    "                       },\n",
    "                \"ntt\": {\"gdp\": {\"data_points\": [6.5, 5.7, 7]},\n",
    "                        \"trade\": {\"data_points\": [8.1, 6, 12]},\n",
    "                        \"political\": {\"data_points\": [-10, -5, -15]},\n",
    "                       },\n",
    "                \"ntnt\": {\"gdp\": {\"data_points\": [6.5, 5.7, 7]},\n",
    "                         \"trade\": {\"data_points\": [8.1, 6, 12]},\n",
    "                         \"political\": {\"data_points\": [0 , -5, 5]},\n",
    "                        }\n",
    "               }\n",
    "\n",
    "player2_data = {\"tt\": {\"gdp\": {\"data_points\": [3.1, 2.8 ,2.7]},\n",
    "                       \"trade\": {\"data_points\": [-8.1, -6, -12]},\n",
    "                       \"political\": {\"data_points\": [10, 5, 15]},\n",
    "                      },\n",
    "                \"tnt\": {\"gdp\": {\"data_points\": [3.1, 2.8 ,2.7]},\n",
    "                        \"trade\": {\"data_points\": [-8.1, -6, -12]},\n",
    "                        \"political\": {\"data_points\": [-20, -20, -30]},\n",
    "                       },\n",
    "                \"ntt\": {\"gdp\": {\"data_points\": [3.1, 2.8 ,2.7]},\n",
    "                         \"trade\": {\"data_points\": [-8.1, -6, -12]},\n",
    "                         \"political\": {\"data_points\": [20, 10, 30]},\n",
    "                       },\n",
    "                \"ntnt\": {\"gdp\": {\"data_points\": [3.1, 2.8 ,2.7]},\n",
    "                          \"trade\": {\"data_points\": [-8.1, -6, -12]},\n",
    "                          \"political\": {\"data_points\": [-10,-5,-15]},\n",
    "                        }\n",
    "               }"
   ]
  },
  {
   "cell_type": "code",
   "execution_count": null,
   "id": "bbe0a6f0-3c6b-4f76-a31a-31d9100cb59a",
   "metadata": {},
   "outputs": [],
   "source": [
    "player1_samples = {\"tt\": {\"gdp\": [],\n",
    "                          \"trade\": [],\n",
    "                          \"political\": [],\n",
    "                         },\n",
    "                   \"tnt\": {\"gdp\": [],\n",
    "                           \"trade\": [],\n",
    "                           \"political\": [],\n",
    "                          },\n",
    "                   \"ntt\": {\"gdp\": [],\n",
    "                           \"trade\": [],\n",
    "                           \"political\": [],\n",
    "                          },\n",
    "                   \"ntnt\": {\"gdp\": [],\n",
    "                            \"trade\": [],\n",
    "                            \"political\": [],\n",
    "                           }\n",
    "                  }\n",
    "\n",
    "player2_samples = {\"tt\": {\"gdp\": [],\n",
    "                          \"trade\": [],\n",
    "                          \"political\": [],\n",
    "                         },\n",
    "                   \"tnt\": {\"gdp\": [],\n",
    "                           \"trade\": [],\n",
    "                           \"political\": [],\n",
    "                          },\n",
    "                   \"ntt\": {\"gdp\": [],\n",
    "                           \"trade\": [],\n",
    "                           \"political\": [],\n",
    "                          },\n",
    "                   \"ntnt\": {\"gdp\": [],\n",
    "                            \"trade\": [],\n",
    "                            \"political\": [],\n",
    "                           }\n",
    "                  }"
   ]
  },
  {
   "cell_type": "code",
   "execution_count": null,
   "id": "c8c83554-a682-4301-9f36-3b6cd43ab873",
   "metadata": {},
   "outputs": [],
   "source": [
    "# Number of simulations\n",
    "num_sims = 10\n",
    "    \n",
    "# Create players\n",
    "player1 = Player(player1_data, \"China\")\n",
    "player2 = Player(player2_data, \"USA\")\n",
    "\n",
    "df_dict = {} \n",
    "\n",
    "player1_payoffs = {'tt': [],\n",
    "                   'tnt': [],\n",
    "                   'ntt': [],\n",
    "                   'ntnt': [],\n",
    "                   'tariff': [],\n",
    "                   'no tariff':[]\n",
    "                  } \n",
    "\n",
    "player2_payoffs = {'tt': [],\n",
    "                   'tnt': [],\n",
    "                   'ntt': [],\n",
    "                   'ntnt': [],\n",
    "                   'tariff': [],\n",
    "                   'no tariff': []\n",
    "                  } \n",
    "\n",
    "\n",
    "for i in range(num_sims): \n",
    "    # Sample Player 1 Payoffs \n",
    "    p1_tt_variables, p1_tt = player1.calculate_payoff('tt', payoffs_formula)\n",
    "    p1_tnt_variables, p1_tnt = player1.calculate_payoff('tnt', payoffs_formula)\n",
    "    p1_ntt_variables, p1_ntt = player1.calculate_payoff('ntt', payoffs_formula)\n",
    "    p1_ntnt_variables, p1_ntnt = player1.calculate_payoff('ntnt', payoffs_formula)\n",
    "    \n",
    "    # Sample Player 2 payoffs\n",
    "    p2_tt_variables, p2_tt = player2.calculate_payoff('tt', payoffs_formula)\n",
    "    p2_tnt_variables, p2_tnt = player2.calculate_payoff('tnt', payoffs_formula)\n",
    "    p2_ntt_variables, p2_ntt = player2.calculate_payoff('ntt', payoffs_formula)\n",
    "    p2_ntnt_variables, p2_ntnt = player2.calculate_payoff('ntnt', payoffs_formula)\n",
    "\n",
    "    payoff_player1 = [[p1_tt, p1_tnt], [p1_ntt, p1_ntnt]]\n",
    "    payoff_player2 = [[p2_tt, p2_tnt], [p2_ntt, p2_ntnt]]\n",
    "\n",
    "    g = create_two_player_game(player_1, player_2, payoff_player1, payoff_player2)\n",
    "    results = gbt.nash.enumpure_solve(g)\n",
    "    if len(results.equilibria) == 0: \n",
    "        print('no strategy found')\n",
    "        continue\n",
    "        \n",
    "    # Record Samples\n",
    "    player1_payoffs['tt'].append(p1_tt) \n",
    "    player1_payoffs['tnt'].append(p1_tnt) \n",
    "    player1_payoffs['ntt'].append(p1_ntt) \n",
    "    player1_payoffs['ntnt'].append(p1_ntnt) \n",
    "\n",
    "    player2_payoffs['tt'].append(p2_tt) \n",
    "    player2_payoffs['tnt'].append(p2_tnt) \n",
    "    player2_payoffs['ntt'].append(p2_ntt) \n",
    "    player2_payoffs['ntnt'].append(p2_ntnt) \n",
    "    \n",
    "    ## Record Results\n",
    "    record_samples('tt', p1_tt_variables, player1_samples)\n",
    "    record_samples('tnt', p1_tnt_variables, player1_samples)\n",
    "    record_samples('ntt', p1_ntt_variables, player1_samples)\n",
    "    record_samples('ntnt', p1_ntnt_variables, player1_samples)\n",
    "\n",
    "    record_samples('tt', p2_tt_variables, player2_samples)\n",
    "    record_samples('tnt', p2_tnt_variables, player2_samples)\n",
    "    record_samples('ntt', p2_ntt_variables, player2_samples)\n",
    "    record_samples('ntnt', p2_ntnt_variables, player2_samples)\n",
    "\n",
    "    p1_nt = float(results.equilibria[0][player_1]['No Tariff']*100)\n",
    "    p1_t = float(results.equilibria[0][player_1]['Tariff']*100)\n",
    "    p2_nt = float(results.equilibria[0][player_2]['No Tariff']*100)\n",
    "    p2_t = float(results.equilibria[0][player_2]['Tariff']*100)\n",
    "\n",
    "    player1_payoffs['tariff'].append(p1_t) \n",
    "    player1_payoffs['no tariff'].append(p1_nt) \n",
    "\n",
    "    player2_payoffs['tariff'].append(p2_t) \n",
    "    player2_payoffs['no tariff'].append(p2_nt) "
   ]
  },
  {
   "cell_type": "code",
   "execution_count": null,
   "id": "6cce15bf-9047-4a8a-b69f-6016ab1ca94e",
   "metadata": {},
   "outputs": [],
   "source": [
    "record_results(df_dict, player1_samples, player2_samples, player1_payoffs, player2_payoffs, results, player_1, player_2)"
   ]
  },
  {
   "cell_type": "code",
   "execution_count": null,
   "id": "1d695d7c-0c65-43bc-8751-2420285a2eb4",
   "metadata": {},
   "outputs": [],
   "source": [
    "columns = ['China_tt_gdp', 'China_tt_trade','China_tt_political', \n",
    "           'China_tnt_gdp', 'China_tnt_trade','China_tnt_political',\n",
    "           'China_ntt_gdp', 'China_ntt_trade', 'China_ntt_political',\n",
    "           'China_ntnt_gdp', 'China_ntnt_trade','China_ntnt_political',\t\n",
    "           'USA_tt_gdp', 'USA_tt_trade','USA_tt_political',\t\n",
    "           'USA_tnt_gdp','USA_tnt_trade','USA_tnt_political', \n",
    "           'USA_ntt_gdp','USA_ntt_trade','USA_ntt_political',\n",
    "           'USA_ntnt_gdp', 'USA_ntnt_trade','USA_ntnt_political',\t\n",
    "           'China_tt_payoffs','USA_tt_payoffs',\n",
    "           'China_tnt_payoffs','USA_tnt_payoffs',\n",
    "           'China_ntt_payoffs','USA_ntt_payoffs',\n",
    "           'China_ntnt_payoffs','USA_ntnt_payoffs',\n",
    "           'China_tariff_probability',\n",
    "           'China_no_tariff_probability',\t\n",
    "           'USA_tariff_probability', \n",
    "           'USA_no_tariff_probability']"
   ]
  },
  {
   "cell_type": "code",
   "execution_count": null,
   "id": "a23c360f-03e6-4462-87b7-d7a18b1e6394",
   "metadata": {},
   "outputs": [],
   "source": [
    "df = pd.DataFrame.from_dict(df_dict)[columns]\n",
    "df.to_excel('results.xlsx')"
   ]
  },
  {
   "cell_type": "code",
   "execution_count": null,
   "id": "1c4a24c3-329b-41a7-a623-e71654fb6296",
   "metadata": {},
   "outputs": [],
   "source": [
    "# look at distributions\n",
    "def plot_distribution_and_samples(title, data_points, x_range, density, samples):\n",
    "    \"\"\"\n",
    "    Plot original points, fitted distribution, and generated samples.\n",
    "    \"\"\"\n",
    "    plt.figure(figsize=(12, 6))\n",
    "    \n",
    "    # Plot original data points\n",
    "    plt.hist(data_points, bins='auto', density=True, alpha=0.5, \n",
    "             label='Original Data', color='lightblue')\n",
    "    \n",
    "    # Plot fitted distribution\n",
    "    plt.plot(x_range, density, 'r-', label='Fitted Distribution')\n",
    "    \n",
    "    # Plot generated samples\n",
    "    plt.hist(samples, bins='auto', density=True, alpha=0.5,\n",
    "             label='Generated Samples', color='lightgreen')\n",
    "    \n",
    "    plt.xlabel('Value')\n",
    "    plt.ylabel('Density')\n",
    "    plt.title(title)\n",
    "    plt.legend()\n",
    "    plt.grid(True, alpha=0.3)\n",
    "    plt.show()\n",
    "    return plt"
   ]
  },
  {
   "cell_type": "code",
   "execution_count": null,
   "id": "6b6bd096-3897-4ee7-8197-1c167905d133",
   "metadata": {},
   "outputs": [],
   "source": [
    "for key in player1.data: \n",
    "    for variable in player1.data[key]:\n",
    "        title = f'Player 1 Scenario: {key} Variable: {variable}' \n",
    "        data_points = player1.data[key][variable]['data_points']\n",
    "        x_range = player1.data[key][variable]['x_range']\n",
    "        density = player1.data[key][variable]['density']\n",
    "        dist = player1.data[key][variable]['density']\n",
    "        samples = player1_samples[key][variable] \n",
    "        plot_distribution_and_samples(title, data_points, x_range, density, samples)"
   ]
  },
  {
   "cell_type": "code",
   "execution_count": null,
   "id": "07508b12-97b2-4d87-8781-d404f63dccfb",
   "metadata": {},
   "outputs": [],
   "source": [
    "for key in player2.data: \n",
    "    for variable in player2.data[key]:\n",
    "        title = f'Player 2 Scenario: {key} Variable: {variable}' \n",
    "        data_points = player2.data[key][variable]['data_points']\n",
    "        x_range = player2.data[key][variable]['x_range']\n",
    "        density = player2.data[key][variable]['density']\n",
    "        dist = player2.data[key][variable]['density']\n",
    "        samples = player2_samples[key][variable] \n",
    "        plot_distribution_and_samples(title, data_points, x_range, density, samples)"
   ]
  },
  {
   "cell_type": "code",
   "execution_count": null,
   "id": "7b17688c-2269-4024-9aa2-3fa699dc2a56",
   "metadata": {},
   "outputs": [],
   "source": [
    "# generate report "
   ]
  }
 ],
 "metadata": {
  "kernelspec": {
   "display_name": "Python 3 (ipykernel)",
   "language": "python",
   "name": "python3"
  },
  "language_info": {
   "codemirror_mode": {
    "name": "ipython",
    "version": 3
   },
   "file_extension": ".py",
   "mimetype": "text/x-python",
   "name": "python",
   "nbconvert_exporter": "python",
   "pygments_lexer": "ipython3",
   "version": "3.12.2"
  }
 },
 "nbformat": 4,
 "nbformat_minor": 5
}

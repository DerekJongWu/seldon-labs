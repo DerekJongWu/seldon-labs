{
 "cells": [
  {
   "cell_type": "markdown",
   "id": "07125264-53d7-46a0-a05b-b0a8538395fa",
   "metadata": {},
   "source": [
    "# Seldon Labs "
   ]
  },
  {
   "cell_type": "code",
   "execution_count": 1,
   "id": "becbede3-8cb7-474b-af47-fcc23e4b23e1",
   "metadata": {},
   "outputs": [],
   "source": [
    "import sys\n",
    "sys.path.append('../')\n",
    "import pygambit as gbt\n",
    "import numpy as np\n",
    "import matplotlib.pyplot as plt\n",
    "import scipy.stats as stats\n",
    "import pandas as pd"
   ]
  },
  {
   "cell_type": "markdown",
   "id": "cfa4f3be-ed08-4a04-a6de-ac64e5968b76",
   "metadata": {},
   "source": [
    "## Experiment v1.0"
   ]
  },
  {
   "cell_type": "code",
   "execution_count": 2,
   "id": "90d97f03-e052-4c01-9454-33aa9a036211",
   "metadata": {},
   "outputs": [],
   "source": [
    "def sample_from_distribution(mean, std_dev, num_samples=1):\n",
    "    # Generate samples from a normal distribution\n",
    "    samples = np.random.normal(loc=mean, scale=std_dev, size=num_samples)\n",
    "    return samples\n"
   ]
  },
  {
   "cell_type": "code",
   "execution_count": 3,
   "id": "2ea88f88-7a09-4090-8db8-5b6533dc823c",
   "metadata": {},
   "outputs": [],
   "source": [
    "def graph_distribution(mu, sigma): \n",
    "    x = np.linspace(mu - 3*sigma, mu + 3*sigma, 100)\n",
    "    plt.plot(x, stats.norm.pdf(x, mu, sigma))\n",
    "    plt.show()"
   ]
  },
  {
   "cell_type": "code",
   "execution_count": 4,
   "id": "b747152e-2a6a-4e61-b6f2-ff0fbc6d49e0",
   "metadata": {},
   "outputs": [
    {
     "name": "stdout",
     "output_type": "stream",
     "text": [
      "Original mean: 10, Sample mean: 8.90\n",
      "Original std: 2, Sample std: 0.00\n"
     ]
    },
    {
     "data": {
      "image/png": "[encoded data removed]",
      "text/plain": [
       "<Figure size 640x480 with 1 Axes>"
      ]
     },
     "metadata": {},
     "output_type": "display_data"
    }
   ],
   "source": [
    "# Example usage\n",
    "mean_value = 10\n",
    "standard_deviation = 2\n",
    "samples = sample_from_distribution(mean_value, standard_deviation)\n",
    "\n",
    "# You can verify the parameters\n",
    "print(f\"Original mean: {mean_value}, Sample mean: {np.mean(samples):.2f}\")\n",
    "print(f\"Original std: {standard_deviation}, Sample std: {np.std(samples):.2f}\")\n",
    "graph_distribution(mean_value, standard_deviation)"
   ]
  },
  {
   "cell_type": "markdown",
   "id": "2cce0bf0-a387-4f55-9bbf-33a553521b33",
   "metadata": {},
   "source": [
    "### Players"
   ]
  },
  {
   "cell_type": "code",
   "execution_count": 5,
   "id": "e911937e-3691-4d27-b46d-eb41af166696",
   "metadata": {},
   "outputs": [],
   "source": [
    "player_1 = 'China' \n",
    "player_2 = 'USA'"
   ]
  },
  {
   "cell_type": "code",
   "execution_count": 6,
   "id": "bb0db6e7-f254-4e73-a4f5-b26ced47b80c",
   "metadata": {},
   "outputs": [],
   "source": [
    "player1_data = {\"ee\": {\"var1\": {\"mean\":6,\n",
    "                                \"stdev\":2\n",
    "                               },\n",
    "                       \"var2\": {\"mean\":6,\n",
    "                                \"stdev\":2\n",
    "                               },\n",
    "                       \"var3\": {\"mean\":6,\n",
    "                                \"stdev\":2\n",
    "                               },\n",
    "                       \"var4\": {\"mean\":6,\n",
    "                                \"stdev\":2\n",
    "                               },\n",
    "                      },\n",
    "                \"ede\": {\"var1\": {\"mean\":11,\n",
    "                                \"stdev\":2\n",
    "                               },\n",
    "                       \"var2\": {\"mean\":11,\n",
    "                                \"stdev\":2\n",
    "                               },\n",
    "                       \"var3\": {\"mean\":11,\n",
    "                                \"stdev\":2\n",
    "                               },\n",
    "                        \"var4\": {\"mean\":11,\n",
    "                                \"stdev\":2\n",
    "                               },\n",
    "                      },\n",
    "                \"dee\": {\"var1\": {\"mean\":3,\n",
    "                                \"stdev\":2\n",
    "                               },\n",
    "                       \"var2\": {\"mean\":3,\n",
    "                                \"stdev\":2\n",
    "                               },\n",
    "                       \"var3\": {\"mean\":3,\n",
    "                                \"stdev\":2\n",
    "                               },\n",
    "                        \"var4\": {\"mean\":3,\n",
    "                                \"stdev\":2\n",
    "                               },\n",
    "                       },\n",
    "                \"dede\": {\"var1\": {\"mean\":8,\n",
    "                                \"stdev\":2\n",
    "                               },\n",
    "                       \"var2\": {\"mean\":8,\n",
    "                                \"stdev\":2\n",
    "                               },\n",
    "                       \"var3\": {\"mean\":8,\n",
    "                                \"stdev\":2\n",
    "                               },\n",
    "                         \"var4\": {\"mean\":8,\n",
    "                                \"stdev\":2\n",
    "                               },\n",
    "                        }\n",
    "               }\n",
    "\n",
    "player2_data = {\"ee\": {\"var1\": {\"mean\":6,\n",
    "                                \"stdev\":2\n",
    "                               },\n",
    "                       \"var2\": {\"mean\":6,\n",
    "                                \"stdev\":2\n",
    "                               },\n",
    "                       \"var3\": {\"mean\":6,\n",
    "                                \"stdev\":2\n",
    "                               },\n",
    "                       \"var4\": {\"mean\":6,\n",
    "                                \"stdev\":2\n",
    "                               },\n",
    "                      },\n",
    "                \"ede\": {\"var1\": {\"mean\":3,\n",
    "                                \"stdev\":2\n",
    "                               },\n",
    "                       \"var2\": {\"mean\":3,\n",
    "                                \"stdev\":2\n",
    "                               },\n",
    "                       \"var3\": {\"mean\":3,\n",
    "                                \"stdev\":2\n",
    "                               },\n",
    "                        \"var4\": {\"mean\":3,\n",
    "                                \"stdev\":2\n",
    "                               },\n",
    "                      },\n",
    "                \"dee\": {\"var1\": {\"mean\":11,\n",
    "                                \"stdev\":2\n",
    "                               },\n",
    "                       \"var2\": {\"mean\":11,\n",
    "                                \"stdev\":2\n",
    "                               },\n",
    "                       \"var3\": {\"mean\":11,\n",
    "                                \"stdev\":2\n",
    "                               },\n",
    "                        \"var4\": {\"mean\":11,\n",
    "                                \"stdev\":2\n",
    "                               },\n",
    "                       },\n",
    "                \"dede\": {\"var1\": {\"mean\":8,\n",
    "                                \"stdev\":2\n",
    "                               },\n",
    "                       \"var2\": {\"mean\":8,\n",
    "                                \"stdev\":2\n",
    "                               },\n",
    "                       \"var3\": {\"mean\":8,\n",
    "                                \"stdev\":2\n",
    "                               },\n",
    "                         \"var4\": {\"mean\":8,\n",
    "                                \"stdev\":2\n",
    "                               },\n",
    "                        }\n",
    "               }"
   ]
  },
  {
   "cell_type": "markdown",
   "id": "2a514f14-64d6-4f82-843f-3fa8c46fc36c",
   "metadata": {},
   "source": [
    "### Monte-Carlo Simulation"
   ]
  },
  {
   "cell_type": "code",
   "execution_count": 7,
   "id": "0a0f60af-ae55-4b77-b8b8-34471ed78bf8",
   "metadata": {},
   "outputs": [],
   "source": [
    "class Player(): \n",
    "    def __init__(self, data, player_name):\n",
    "        self.data = data \n",
    "        self.name = player_name\n",
    "\n",
    "    def calculate_payoff(self, scenario, payoff_func):\n",
    "        var1 = float(sample_from_distribution(self.data[scenario]['var1']['mean'], self.data[scenario]['var1']['stdev'], num_samples=1)[0])\n",
    "        var2 = float(sample_from_distribution(self.data[scenario]['var2']['mean'], self.data[scenario]['var2']['stdev'], num_samples=1)[0])\n",
    "        var3 = float(sample_from_distribution(self.data[scenario]['var3']['mean'], self.data[scenario]['var3']['stdev'], num_samples=1)[0])\n",
    "        var4 = float(sample_from_distribution(self.data[scenario]['var4']['mean'], self.data[scenario]['var4']['stdev'], num_samples=1)[0])\n",
    "        variables_used = {'var1': var1, \"var2\": var2, \"var3\": var3, \"var4\": var4}\n",
    "        return variables_used, payoff_func(var1, var2, var3, var4)\n",
    "        "
   ]
  },
  {
   "cell_type": "code",
   "execution_count": 8,
   "id": "701a0aec-009b-484d-8fe2-26550f9cd019",
   "metadata": {},
   "outputs": [],
   "source": [
    "def payoffs_formula(var1, var2, var3, var4): \n",
    "    return var1+var2+var3+var4"
   ]
  },
  {
   "cell_type": "code",
   "execution_count": 9,
   "id": "999ca2a9-54a2-4987-b1d7-2702ad673ab2",
   "metadata": {},
   "outputs": [],
   "source": [
    "def record_samples(scenario,samples_dictionary, record_dictionary): \n",
    "    for key in samples_dictionary: \n",
    "        record_dictionary[scenario][key].append(samples_dictionary[key])\n",
    "    return"
   ]
  },
  {
   "cell_type": "code",
   "execution_count": 10,
   "id": "303e309b-b4a2-48f1-9a3c-813890d84688",
   "metadata": {},
   "outputs": [],
   "source": [
    "def record_results(df_dict, player1_samples, player2_samples, player1_payoffs, player2_payoffs, results, player_1, player_2): \n",
    "    # Record variables\n",
    "    for scenario in player1_samples:\n",
    "        for variable in player1_samples[scenario]: \n",
    "            df_dict[f'{player1.name}_{scenario}_{variable}'] = player1_samples[scenario][variable]\n",
    "\n",
    "    for scenario in player2_samples:\n",
    "        for variable in player2_samples[scenario]: \n",
    "            df_dict[f'{player2.name}_{scenario}_{variable}'] = player2_samples[scenario][variable]\n",
    "\n",
    "    # record payoffs and outcomes\n",
    "    for scenario in player1_payoffs:\n",
    "        df_dict[f'{player1.name}_{scenario}_payoffs'] = player1_payoffs[scenario]\n",
    "        \n",
    "    for scenario in player2_payoffs:\n",
    "        df_dict[f'{player2.name}_{scenario}_payoffs'] = player2_payoffs[scenario]\n",
    "\n",
    "    # record ouctomes \n",
    "    df_dict[f'{player1.name}_expand_probability'] = player1_payoffs['expand']\n",
    "    df_dict[f'{player1.name}_dont_expand_probability'] = player1_payoffs[\"don't expand\"]\n",
    "    df_dict[f'{player2.name}_expand_probability'] = player2_payoffs['expand']\n",
    "    df_dict[f'{player2.name}_dont_expand_probability'] = player2_payoffs[\"don't expand\"]"
   ]
  },
  {
   "cell_type": "code",
   "execution_count": 11,
   "id": "eb11346f-9d4b-4bae-beea-debf37966fb9",
   "metadata": {},
   "outputs": [],
   "source": [
    "def create_two_player_game(player1, player2, payoff1, payoff2):\n",
    "    \"\"\"\n",
    "    Create a Prisoner's Dilemma game using Pygambit.\n",
    "    \n",
    "    Parameters:\n",
    "    - cooperate_reward: Payoff when both players cooperate (default: -1)\n",
    "    - defect_reward: Payoff when both players defect (default: 0)\n",
    "    - temptation: Payoff for defecting while other cooperates (default: 1)\n",
    "    - sucker: Payoff for cooperating while other defects (default: -2)\n",
    "    \n",
    "    Returns:\n",
    "    - game: Pygambit strategic game object\n",
    "    \"\"\"\n",
    "    # Create a new strategic game with 2 players, 2 strategies each\n",
    "    game = gbt.Game.from_arrays(payoff1, payoff2)\n",
    "    \n",
    "    # Set the game title\n",
    "    game.title = \"Prisoner's Dilemma\"\n",
    "    \n",
    "    # Set player names\n",
    "    game.players[0].label = player1\n",
    "    game.players[1].label = player2\n",
    "    \n",
    "    # Set strategy labels for both players\n",
    "    game.players[0].strategies[0].label = \"Expand\"\n",
    "    game.players[0].strategies[1].label = \"Don't Expand\"\n",
    "    game.players[1].strategies[0].label = \"Expand\"\n",
    "    game.players[1].strategies[1].label = \"Don't Expand\"\n",
    "    \n",
    "    return game"
   ]
  },
  {
   "cell_type": "code",
   "execution_count": 12,
   "id": "bbe0a6f0-3c6b-4f76-a31a-31d9100cb59a",
   "metadata": {},
   "outputs": [],
   "source": [
    "player1_samples = {\"ee\": {\"var1\": [],\n",
    "                          \"var2\": [],\n",
    "                          \"var3\": [],\n",
    "                          \"var4\": [],\n",
    "                         },\n",
    "                   \"ede\": {\"var1\": [],\n",
    "                           \"var2\": [],\n",
    "                           \"var3\": [],\n",
    "                           \"var4\": [],\n",
    "                          },\n",
    "                   \"dee\": {\"var1\": [],\n",
    "                           \"var2\": [],\n",
    "                           \"var3\": [],\n",
    "                           \"var4\": [],\n",
    "                          },\n",
    "                   \"dede\": {\"var1\": [],\n",
    "                            \"var2\": [],\n",
    "                            \"var3\": [],\n",
    "                            \"var4\": [],\n",
    "                           }\n",
    "                  }\n",
    "\n",
    "player2_samples = {\"ee\": {\"var1\": [],\n",
    "                          \"var2\": [],\n",
    "                          \"var3\": [],\n",
    "                          \"var4\": [],\n",
    "                         },\n",
    "                   \"ede\": {\"var1\": [],\n",
    "                           \"var2\": [],\n",
    "                           \"var3\": [],\n",
    "                           \"var4\": [],\n",
    "                          },\n",
    "                   \"dee\": {\"var1\": [],\n",
    "                           \"var2\": [],\n",
    "                           \"var3\": [],\n",
    "                           \"var4\": [],\n",
    "                          },\n",
    "                   \"dede\": {\"var1\": [],\n",
    "                            \"var2\": [],\n",
    "                            \"var3\": [],\n",
    "                            \"var4\": [],\n",
    "                           }\n",
    "                  }"
   ]
  },
  {
   "cell_type": "code",
   "execution_count": 13,
   "id": "c8c83554-a682-4301-9f36-3b6cd43ab873",
   "metadata": {},
   "outputs": [
    {
     "name": "stdout",
     "output_type": "stream",
     "text": [
      "no strategy found\n"
     ]
    }
   ],
   "source": [
    "# Number of simulations\n",
    "num_sims = 500\n",
    "    \n",
    "# Create players\n",
    "player1 = Player(player1_data, \"China\")\n",
    "player2 = Player(player2_data, \"USA\")\n",
    "\n",
    "df_dict = {} \n",
    "\n",
    "player1_payoffs = {'ee': [],\n",
    "                   'ede': [],\n",
    "                   'dee': [],\n",
    "                   'dede': [],\n",
    "                   'expand': [],\n",
    "                   \"don't expand\":[]\n",
    "                  } \n",
    "\n",
    "player2_payoffs = {'ee': [],\n",
    "                   'ede': [],\n",
    "                   'dee': [],\n",
    "                   'dede': [],\n",
    "                   'expand': [],\n",
    "                   \"don't expand\": []\n",
    "                  } \n",
    "\n",
    "\n",
    "for i in range(num_sims): \n",
    "    # Sample Player 1 Payoffs \n",
    "    p1_ee_variables, p1_ee = player1.calculate_payoff('ee', payoffs_formula)\n",
    "    p1_ede_variables, p1_ede = player1.calculate_payoff('ede', payoffs_formula)\n",
    "    p1_dee_variables, p1_dee = player1.calculate_payoff('dee', payoffs_formula)\n",
    "    p1_dede_variables, p1_dede = player1.calculate_payoff('dede', payoffs_formula)\n",
    "    \n",
    "    # Sample Player 2 payoffs\n",
    "    p2_ee_variables, p2_ee = player2.calculate_payoff('ee', payoffs_formula)\n",
    "    p2_ede_variables, p2_ede = player2.calculate_payoff('ede', payoffs_formula)\n",
    "    p2_dee_variables, p2_dee = player2.calculate_payoff('dee', payoffs_formula)\n",
    "    p2_dede_variables, p2_dede = player2.calculate_payoff('dede', payoffs_formula)\n",
    "\n",
    "    payoff_player1 = [[p1_ee, p1_ede], [p1_dee, p1_dede]]\n",
    "    payoff_player2 = [[p2_ee, p2_ede], [p2_dee, p2_dede]]\n",
    "\n",
    "    g = create_two_player_game(player_1, player_2, payoff_player1, payoff_player2)\n",
    "    results = gbt.nash.enumpure_solve(g, use_strategic=False)\n",
    "    if len(results.equilibria) == 0: \n",
    "        print('no strategy found')\n",
    "        continue\n",
    "        \n",
    "    # Record Samples\n",
    "    player1_payoffs['ee'].append(p1_ee) \n",
    "    player1_payoffs['ede'].append(p1_ede) \n",
    "    player1_payoffs['dee'].append(p1_dee) \n",
    "    player1_payoffs['dede'].append(p1_dede) \n",
    "\n",
    "    player2_payoffs['ee'].append(p2_ee) \n",
    "    player2_payoffs['ede'].append(p2_ede) \n",
    "    player2_payoffs['dee'].append(p2_dee) \n",
    "    player2_payoffs['dede'].append(p2_dede) \n",
    "    \n",
    "    ## Record Results\n",
    "    record_samples('ee', p1_ee_variables, player1_samples)\n",
    "    record_samples('ede', p1_ede_variables, player1_samples)\n",
    "    record_samples('dee', p1_dee_variables, player1_samples)\n",
    "    record_samples('dede', p1_dede_variables, player1_samples)\n",
    "\n",
    "    record_samples('ee', p2_ee_variables, player2_samples)\n",
    "    record_samples('ede', p2_ede_variables, player2_samples)\n",
    "    record_samples('dee', p2_dee_variables, player2_samples)\n",
    "    record_samples('dede', p2_dede_variables, player2_samples)\n",
    "\n",
    "    p1_de = float(results.equilibria[0][player_1][\"Don't Expand\"]*100)\n",
    "    p1_e = float(results.equilibria[0][player_1]['Expand']*100)\n",
    "    p2_de = float(results.equilibria[0][player_2][\"Don't Expand\"]*100)\n",
    "    p2_e = float(results.equilibria[0][player_2]['Expand']*100)\n",
    "\n",
    "    player1_payoffs['expand'].append(p1_e) \n",
    "    player1_payoffs[\"don't expand\"].append(p1_de) \n",
    "\n",
    "    player2_payoffs['expand'].append(p2_e) \n",
    "    player2_payoffs[\"don't expand\"].append(p2_de) "
   ]
  },
  {
   "cell_type": "code",
   "execution_count": 14,
   "id": "6cce15bf-9047-4a8a-b69f-6016ab1ca94e",
   "metadata": {},
   "outputs": [],
   "source": [
    "record_results(df_dict, player1_samples, player2_samples, player1_payoffs, player2_payoffs, results, player_1, player_2)"
   ]
  },
  {
   "cell_type": "code",
   "execution_count": 15,
   "id": "1d695d7c-0c65-43bc-8751-2420285a2eb4",
   "metadata": {},
   "outputs": [],
   "source": [
    "columns = ['China_ee_var1', 'China_ee_var2','China_ee_var3','China_ee_var4',\n",
    "           'China_ede_var1', 'China_ede_var2','China_ede_var3','China_ede_var4',\n",
    "           'China_dee_var1', 'China_dee_var2', 'China_dee_var3','China_dee_var4',\n",
    "           'China_dede_var1', 'China_dede_var2','China_dede_var3','China_dede_var4',\n",
    "           'USA_ee_var1', 'USA_ee_var2','USA_ee_var3', 'USA_ee_var4',\n",
    "           'USA_ede_var1','USA_ede_var2','USA_ede_var3', 'USA_ede_var4',\n",
    "           'USA_dee_var1','USA_dee_var2','USA_dee_var3','USA_dee_var4',\n",
    "           'USA_dede_var1', 'USA_dede_var2','USA_dede_var3', 'USA_dede_var4', \n",
    "           'China_ee_payoffs','USA_ee_payoffs',\n",
    "           'China_ede_payoffs','USA_ede_payoffs',\n",
    "           'China_dee_payoffs','USA_dee_payoffs',\n",
    "           'China_dede_payoffs','USA_dede_payoffs',\n",
    "           'China_expand_probability',\n",
    "           'China_dont_expand_probability',\t\n",
    "           'USA_expand_probability', \n",
    "           'USA_dont_expand_probability']"
   ]
  },
  {
   "cell_type": "code",
   "execution_count": 16,
   "id": "a23c360f-03e6-4462-87b7-d7a18b1e6394",
   "metadata": {},
   "outputs": [],
   "source": [
    "df = pd.DataFrame.from_dict(df_dict)[columns]\n",
    "df.to_excel('results_500sim.xlsx')"
   ]
  },
  {
   "cell_type": "code",
   "execution_count": null,
   "id": "40493173-82bc-4ecd-9663-7092711367b9",
   "metadata": {},
   "outputs": [],
   "source": [
    "# Plot distributions"
   ]
  },
  {
   "cell_type": "code",
   "execution_count": null,
   "id": "20d34851-3623-4f3d-85bc-bcdf75a81f77",
   "metadata": {},
   "outputs": [],
   "source": [
    "for scenario in player1_data:\n",
    "    for variable in player1_data[scenario]: \n",
    "        mu = player1_data[scenario][variable]['mean']\n",
    "        sigma = player1_data[scenario][variable]['stdev']\n",
    "        x = np.linspace(mu - 3*sigma, mu + 3*sigma, 100)\n",
    "        plt.plot(x, stats.norm.pdf(x, mu, sigma), label = variable)\n",
    "    plt.title(f'{scenario} variable distributions')\n",
    "    plt.legend()\n",
    "    plt.show()"
   ]
  },
  {
   "cell_type": "code",
   "execution_count": null,
   "id": "fbac4175-7a0d-4d26-80cc-7fe032a04767",
   "metadata": {},
   "outputs": [],
   "source": [
    "for scenario in player2_data:\n",
    "    for variable in player2_data[scenario]: \n",
    "        mu = player2_data[scenario][variable]['mean']\n",
    "        sigma = player2_data[scenario][variable]['stdev']\n",
    "        x = np.linspace(mu - 3*sigma, mu + 3*sigma, 100)\n",
    "        plt.plot(x, stats.norm.pdf(x, mu, sigma), label = variable)\n",
    "    plt.title(f'{scenario} variable distributions')\n",
    "    plt.legend()\n",
    "    plt.show()"
   ]
  },
  {
   "cell_type": "code",
   "execution_count": null,
   "id": "2fde050f-ff1b-4c01-b3a0-249526e9ee5d",
   "metadata": {},
   "outputs": [],
   "source": [
    "# TO DO: \n",
    "# Should record what values create no strategy\n",
    "# Create tree form of games \n",
    "# Create heuristic for statistic tool "
   ]
  }
 ],
 "metadata": {
  "kernelspec": {
   "display_name": "Python 3 (ipykernel)",
   "language": "python",
   "name": "python3"
  },
  "language_info": {
   "codemirror_mode": {
    "name": "ipython",
    "version": 3
   },
   "file_extension": ".py",
   "mimetype": "text/x-python",
   "name": "python",
   "nbconvert_exporter": "python",
   "pygments_lexer": "ipython3",
   "version": "3.12.2"
  }
 },
 "nbformat": 4,
 "nbformat_minor": 5
}

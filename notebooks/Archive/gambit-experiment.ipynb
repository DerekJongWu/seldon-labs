{
 "cells": [
  {
   "cell_type": "markdown",
   "id": "2130aa31-ada6-4dda-9262-8c4e1df0be22",
   "metadata": {},
   "source": [
    "# Gambit Experiment"
   ]
  },
  {
   "cell_type": "markdown",
   "id": "934b2cf2-4b98-471f-9d3b-118bfc5f05b6",
   "metadata": {},
   "source": [
    "This notebook experiments with the Gambit software package to understand its capabilities and how it might fit with our efforts for monte carlo simulations and explainability"
   ]
  },
  {
   "cell_type": "code",
   "execution_count": 17,
   "id": "ea4d0150-0742-4f19-ba52-3c1af7135a73",
   "metadata": {},
   "outputs": [],
   "source": [
    "import pygambit as gbt\n",
    "import numpy as np"
   ]
  },
  {
   "cell_type": "code",
   "execution_count": 18,
   "id": "d75972fa-78e0-47df-a338-a9c4bab43a82",
   "metadata": {},
   "outputs": [],
   "source": [
    "# Create prisoners dilemma as tree? "
   ]
  },
  {
   "cell_type": "code",
   "execution_count": 19,
   "id": "5bc670c2-cce0-45b6-848b-d5fe8986e386",
   "metadata": {},
   "outputs": [],
   "source": [
    "g = gbt.Game.new_tree(players=[\"China\", \"US\"],\n",
    "                      title=\"Modeling Tariffs\")"
   ]
  },
  {
   "cell_type": "code",
   "execution_count": 20,
   "id": "fa7294d8-f62a-4b38-9bd3-b61f03b11998",
   "metadata": {},
   "outputs": [],
   "source": [
    "g.append_move(g.root, \"China\", [\"Tariff\", \"No Tariff\"])\n",
    "g.append_move(g.root.children[0], \"US\", [\"Tariff\", \"No Tariff\"])\n",
    "g.append_move(g.root.children[1], \"US\", [\"Tariff\", \"No Tariff\"])"
   ]
  },
  {
   "cell_type": "code",
   "execution_count": 21,
   "id": "70b3896e-efcd-41d0-84dd-e6ff899342cb",
   "metadata": {},
   "outputs": [],
   "source": [
    "tt = g.add_outcome([-6, -6], label=\"China and USA Tariff\")\n",
    "tnt = g.add_outcome([0, -10], label=\"China tariff USA no tariff\")\n",
    "ntt = g.add_outcome([-10, 0], label=\"China no tariff USA tariff\")\n",
    "ntnt = g.add_outcome([-1, -1], label=\"China and USA no tariff\")"
   ]
  },
  {
   "cell_type": "code",
   "execution_count": 22,
   "id": "94993b80-5e56-4408-8a11-8bd4a9816551",
   "metadata": {},
   "outputs": [],
   "source": [
    "g.set_outcome(g.root.children[0].children[0], tt)\n",
    "g.set_outcome(g.root.children[0].children[1], tnt)\n",
    "g.set_outcome(g.root.children[1].children[0], ntt)\n",
    "g.set_outcome(g.root.children[1].children[1], ntnt)"
   ]
  },
  {
   "cell_type": "code",
   "execution_count": 23,
   "id": "2d4bc51a-3942-4674-8d35-e03b9fd152fb",
   "metadata": {},
   "outputs": [],
   "source": [
    "results = gbt.nash.enumpure_solve(g) "
   ]
  },
  {
   "cell_type": "code",
   "execution_count": 77,
   "id": "f928f58b-0f03-4b07-bf17-4d3dbb516150",
   "metadata": {},
   "outputs": [],
   "source": [
    "eqm = results.equilibria[0]"
   ]
  },
  {
   "cell_type": "code",
   "execution_count": 25,
   "id": "af9abe5c-cba7-4a78-bf89-2c5105b2f1ca",
   "metadata": {},
   "outputs": [
    {
     "data": {
      "text/latex": [
       "$\\left[1,0,0,0\\right]$"
      ],
      "text/plain": [
       "[Rational(1, 1), Rational(0, 1), Rational(0, 1), Rational(0, 1)]"
      ]
     },
     "execution_count": 25,
     "metadata": {},
     "output_type": "execute_result"
    }
   ],
   "source": [
    "eqm['US']"
   ]
  },
  {
   "cell_type": "code",
   "execution_count": 89,
   "id": "29fed0aa-0343-4c4e-b922-18766f0a826b",
   "metadata": {},
   "outputs": [
    {
     "data": {
      "text/plain": [
       "Outcome(game=Game(title='Modeling Tariffs'), label='China and USA no tariff')"
      ]
     },
     "execution_count": 89,
     "metadata": {},
     "output_type": "execute_result"
    }
   ],
   "source": [
    "g.nodes()[6].outcome"
   ]
  },
  {
   "cell_type": "markdown",
   "id": "e2d7eb11-a168-4449-835f-72ae51acf682",
   "metadata": {},
   "source": [
    "### Game Setup\n",
    "Building an extensive game. Could be useful for future use when there are multi stage games."
   ]
  },
  {
   "cell_type": "code",
   "execution_count": 2,
   "id": "540db589-8f71-488b-865f-2baade2cb3ff",
   "metadata": {},
   "outputs": [],
   "source": [
    "g = gbt.Game.new_tree(players=[\"Alice\", \"Bob\"],\n",
    "                      title=\"One card poker game, after Myerson (1991)\")"
   ]
  },
  {
   "cell_type": "code",
   "execution_count": 3,
   "id": "a34489ba-a8df-4da0-a256-6c5c318aabcd",
   "metadata": {},
   "outputs": [],
   "source": [
    "g.append_move(g.root, g.players.chance, [\"King\", \"Queen\"])\n",
    "for node in g.root.children:\n",
    "    g.append_move(node, \"Alice\", [\"Raise\", \"Fold\"])\n",
    "g.append_move(g.root.children[0].children[0], \"Bob\", [\"Meet\", \"Pass\"])\n",
    "g.append_infoset(g.root.children[1].children[0],\n",
    "                 g.root.children[0].children[0].infoset)\n",
    "alice_winsbig = g.add_outcome([2, -2], label=\"Alice wins big\")\n",
    "alice_wins = g.add_outcome([1, -1], label=\"Alice wins\")\n",
    "bob_winsbig = g.add_outcome([-2, 2], label=\"Bob wins big\")\n",
    "bob_wins = g.add_outcome([-1, 1], label=\"Bob wins\")\n",
    "g.set_outcome(g.root.children[0].children[0].children[0], alice_winsbig)\n",
    "g.set_outcome(g.root.children[0].children[0].children[1], alice_wins)\n",
    "g.set_outcome(g.root.children[0].children[1], bob_wins)\n",
    "g.set_outcome(g.root.children[1].children[0].children[0], bob_winsbig)\n",
    "g.set_outcome(g.root.children[1].children[0].children[1], alice_wins)\n",
    "g.set_outcome(g.root.children[1].children[1], bob_wins)"
   ]
  },
  {
   "cell_type": "markdown",
   "id": "d404262a-8405-4127-a9c9-9fb4edc4ed34",
   "metadata": {},
   "source": [
    "Build a normal form game"
   ]
  },
  {
   "cell_type": "code",
   "execution_count": 4,
   "id": "77b44b66-de55-4eac-b0dd-3724b1013443",
   "metadata": {},
   "outputs": [],
   "source": [
    "m = np.array([[8, 2], [10, 5]])\n",
    "t = gbt.Game.from_arrays(m, np.transpose(m))"
   ]
  },
  {
   "cell_type": "code",
   "execution_count": 5,
   "id": "4eab3dc0-f76f-45d2-b78b-0d332a1446d7",
   "metadata": {},
   "outputs": [
    {
     "data": {
      "text/plain": [
       "GameOutcomes(game=Game(title='Untitled strategic game'))"
      ]
     },
     "execution_count": 5,
     "metadata": {},
     "output_type": "execute_result"
    }
   ],
   "source": [
    "t.outcomes"
   ]
  },
  {
   "cell_type": "markdown",
   "id": "1018cccb-3f37-4b6f-b2a6-a0ea957f6dcb",
   "metadata": {},
   "source": [
    "### Computing Nash Equilibria"
   ]
  },
  {
   "cell_type": "markdown",
   "id": "2e514759-e6dc-487f-adaa-45bed93ffbfa",
   "metadata": {},
   "source": [
    "With Extensive Games - not all fuctionality explored"
   ]
  },
  {
   "cell_type": "code",
   "execution_count": 6,
   "id": "9e9e4667-7fb8-4635-bd39-30a3fbf0be2c",
   "metadata": {},
   "outputs": [
    {
     "data": {
      "text/latex": [
       "$\\left[\\left[1,0\\right],\\left[\\frac{1}{3},\\frac{2}{3}\\right]\\right]$"
      ],
      "text/plain": [
       "[[Rational(1, 1), Rational(0, 1)], [Rational(1, 3), Rational(2, 3)]]"
      ]
     },
     "execution_count": 6,
     "metadata": {},
     "output_type": "execute_result"
    }
   ],
   "source": [
    "result = gbt.nash.lcp_solve(g)\n",
    "eqm = result.equilibria[0]\n",
    "eqm['Alice']"
   ]
  },
  {
   "cell_type": "code",
   "execution_count": 7,
   "id": "a86af8fb-4d7b-4f1c-abca-bb3006a00388",
   "metadata": {},
   "outputs": [
    {
     "data": {
      "text/latex": [
       "$\\left[\\left[\\frac{2}{3},\\frac{1}{3}\\right]\\right]$"
      ],
      "text/plain": [
       "[[Rational(2, 3), Rational(1, 3)]]"
      ]
     },
     "execution_count": 7,
     "metadata": {},
     "output_type": "execute_result"
    }
   ],
   "source": [
    "eqm[\"Bob\"]"
   ]
  },
  {
   "cell_type": "markdown",
   "id": "0773d5dc-a293-4b97-a833-c6048cae4a3c",
   "metadata": {},
   "source": [
    "Solving Prisoners Dilemma with Pure Strategy"
   ]
  },
  {
   "cell_type": "code",
   "execution_count": null,
   "id": "80256cd2-75a8-4aeb-8b27-455a8db2b12f",
   "metadata": {},
   "outputs": [],
   "source": [
    "def create_prisoners_dilemma(payoff1, payoff2):\n",
    "    \"\"\"\n",
    "    Create a Prisoner's Dilemma game using Pygambit.\n",
    "    \n",
    "    Parameters:\n",
    "    - cooperate_reward: Payoff when both players cooperate (default: -1)\n",
    "    - defect_reward: Payoff when both players defect (default: 0)\n",
    "    - temptation: Payoff for defecting while other cooperates (default: 1)\n",
    "    - sucker: Payoff for cooperating while other defects (default: -2)\n",
    "    \n",
    "    Returns:\n",
    "    - game: Pygambit strategic game object\n",
    "    \"\"\"\n",
    "    # Create a new strategic game with 2 players, 2 strategies each\n",
    "    game = gbt.Game.from_arrays(payoff1, payoff2)\n",
    "    \n",
    "    # Set the game title\n",
    "    game.title = \"Prisoner's Dilemma\"\n",
    "    \n",
    "    # Set player names\n",
    "    game.players[0].label = \"Prisoner 1\"\n",
    "    game.players[1].label = \"Prisoner 2\"\n",
    "    \n",
    "    # Set strategy labels for both players\n",
    "    game.players[0].strategies[0].label = \"Cooperate\"\n",
    "    game.players[0].strategies[1].label = \"Defect\"\n",
    "    game.players[1].strategies[0].label = \"Cooperate\"\n",
    "    game.players[1].strategies[1].label = \"Defect\"\n",
    "    \n",
    "    return game"
   ]
  },
  {
   "cell_type": "code",
   "execution_count": null,
   "id": "20e5e5fa-ea9a-4c50-8ceb-310d83b0d0f0",
   "metadata": {},
   "outputs": [],
   "source": [
    "payoff_player1 = [[1,2],[3,4]]\n",
    "payoff_player2 = [[5,6],[7,8]]\n",
    "g = create_prisoners_dilemma(payoff_player1, payoff_player2)"
   ]
  },
  {
   "cell_type": "code",
   "execution_count": null,
   "id": "265797e9-0131-4fb9-9e86-0a6cb771cfcc",
   "metadata": {},
   "outputs": [],
   "source": [
    "results = gbt.nash.enumpure_solve(g, use_strategic=False) "
   ]
  },
  {
   "cell_type": "code",
   "execution_count": null,
   "id": "ee8e92cc-cdd9-4606-b4c9-1161b98e9e63",
   "metadata": {},
   "outputs": [],
   "source": [
    "results.game"
   ]
  },
  {
   "cell_type": "code",
   "execution_count": null,
   "id": "df265dab-0106-48b3-a550-d3a2c64f8e51",
   "metadata": {},
   "outputs": [],
   "source": [
    "results.equilibria[0]['Prisoner 1']"
   ]
  },
  {
   "cell_type": "code",
   "execution_count": null,
   "id": "624ec004-3410-4f26-b77c-4e4ce014a3d1",
   "metadata": {},
   "outputs": [],
   "source": [
    "float(results.equilibria[0]['Prisoner 1']['Cooperate']*100)"
   ]
  },
  {
   "cell_type": "code",
   "execution_count": null,
   "id": "d8778012-e38a-4ead-b5d0-837ecbd75ddd",
   "metadata": {},
   "outputs": [],
   "source": [
    "payoff_player1 = [[-1,-10],[0,-6]]\n",
    "payoff_player2 = np.transpose(payoff_player1)\n",
    "g = create_prisoners_dilemma(payoff_player1, payoff_player2)"
   ]
  },
  {
   "cell_type": "code",
   "execution_count": null,
   "id": "9c339c25-3671-4be8-89c5-3d94b2e64a70",
   "metadata": {},
   "outputs": [],
   "source": [
    "results = gbt.nash.enumpure_solve(g) "
   ]
  },
  {
   "cell_type": "code",
   "execution_count": null,
   "id": "b1b74729-4fdb-4eb5-be54-6b54f8977026",
   "metadata": {},
   "outputs": [],
   "source": [
    "results.game"
   ]
  },
  {
   "cell_type": "code",
   "execution_count": null,
   "id": "84375b94-a88e-4a15-87a7-f1cb0c9b690c",
   "metadata": {},
   "outputs": [],
   "source": [
    "results.equilibria[0]['Prisoner 2']"
   ]
  },
  {
   "cell_type": "code",
   "execution_count": null,
   "id": "e6f44831-84ee-404f-851c-55e63b34e5dd",
   "metadata": {},
   "outputs": [],
   "source": [
    "float(results.equilibria[0]['Prisoner 1']['Cooperate']*100)"
   ]
  },
  {
   "cell_type": "code",
   "execution_count": null,
   "id": "7cb6643a-1b94-4481-b20c-3844391fe551",
   "metadata": {},
   "outputs": [],
   "source": [
    "# To note: Player 1 on the rows, Player 2 on the columns "
   ]
  },
  {
   "cell_type": "code",
   "execution_count": null,
   "id": "7f8eb3dc-48d0-4bc5-83ff-2095d77e0934",
   "metadata": {},
   "outputs": [],
   "source": []
  }
 ],
 "metadata": {
  "kernelspec": {
   "display_name": "Python 3 (ipykernel)",
   "language": "python",
   "name": "python3"
  },
  "language_info": {
   "codemirror_mode": {
    "name": "ipython",
    "version": 3
   },
   "file_extension": ".py",
   "mimetype": "text/x-python",
   "name": "python",
   "nbconvert_exporter": "python",
   "pygments_lexer": "ipython3",
   "version": "3.12.2"
  }
 },
 "nbformat": 4,
 "nbformat_minor": 5
}

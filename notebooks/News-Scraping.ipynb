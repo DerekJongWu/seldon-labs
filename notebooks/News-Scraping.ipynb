{
 "cells": [
  {
   "cell_type": "code",
   "execution_count": null,
   "id": "3bd441cc-5c02-45ec-9d18-e18d6ff0d43d",
   "metadata": {},
   "outputs": [],
   "source": [
    "import base64\n",
    "from fp.fp import FreeProxy\n",
    "from googlenewsdecoder import gnewsdecoder\n",
    "import pandas as pd\n",
    "from pygooglenews import GoogleNews\n",
    "import datetime\n",
    "import openai\n",
    "import ast\n",
    "from tqdm import tqdm"
   ]
  },
  {
   "cell_type": "markdown",
   "id": "018fb42a-4ca2-4d0d-a555-96b18d4cbb46",
   "metadata": {},
   "source": [
    "### get dataset"
   ]
  },
  {
   "cell_type": "code",
   "execution_count": null,
   "id": "9e152c63-2e50-4cdd-a0de-f2f961fa8567",
   "metadata": {},
   "outputs": [],
   "source": [
    "import pandas as pd\n",
    "from pygooglenews import GoogleNews\n",
    "import datetime\n",
    "\n",
    "gn = GoogleNews()\n",
    "\n",
    "def get_news(search):\n",
    "    stories = []\n",
    "    start_date = datetime.date(2025,1,1)\n",
    "    end_date = datetime.date(2025,2,28)\n",
    "    delta = datetime.timedelta(days=1)\n",
    "    date_list = pd.date_range(start_date, end_date).tolist()\n",
    "    \n",
    "    for date in date_list[:-1]:\n",
    "        result = gn.search(search, from_=date.strftime('%Y-%m-%d'), to_=(date+delta).strftime('%Y-%m-%d'))\n",
    "        newsitem = result['entries']\n",
    "\n",
    "        for item in newsitem:\n",
    "            story = {\n",
    "                'title':item.title,\n",
    "                'link':item.link,\n",
    "                'published':item.published\n",
    "            }\n",
    "            stories.append(story)\n",
    "\n",
    "    return stories"
   ]
  },
  {
   "cell_type": "code",
   "execution_count": null,
   "id": "984a4984-c789-4569-81cb-304a822fa23b",
   "metadata": {},
   "outputs": [],
   "source": [
    "df = pd.DataFrame(get_news('Tariffs'))"
   ]
  },
  {
   "cell_type": "code",
   "execution_count": null,
   "id": "1bfa0a4a-e9c0-4d2e-ad3b-73961391c74d",
   "metadata": {},
   "outputs": [],
   "source": [
    "len(df) "
   ]
  },
  {
   "cell_type": "code",
   "execution_count": null,
   "id": "07395462-9dfb-46c3-af2b-e5e7e7b37462",
   "metadata": {},
   "outputs": [],
   "source": [
    "df.to_excel(\"news_dataset.xlsx\")"
   ]
  },
  {
   "cell_type": "markdown",
   "id": "ba57dd92-5523-4cc2-8575-2c772ec56a5e",
   "metadata": {},
   "source": [
    "### Decode URLs"
   ]
  },
  {
   "cell_type": "markdown",
   "id": "d8cfa37e-b6dc-49c0-b710-27611b0a2026",
   "metadata": {
    "jp-MarkdownHeadingCollapsed": true
   },
   "source": [
    "### ReIndex DFs"
   ]
  },
  {
   "cell_type": "code",
   "execution_count": null,
   "id": "b6470dea-5392-4896-832b-88111d5f3fcb",
   "metadata": {},
   "outputs": [],
   "source": [
    "### Only do 100 at a time to avoid 429 error"
   ]
  },
  {
   "cell_type": "code",
   "execution_count": null,
   "id": "3d16c793-bc1f-4dc4-a29d-14c01839023a",
   "metadata": {},
   "outputs": [],
   "source": [
    "def decode_url(link): \n",
    "    try:\n",
    "        decoded_url = gnewsdecoder(link)\n",
    "\n",
    "        if decoded_url.get(\"status\"):\n",
    "            return decoded_url[\"decoded_url\"]\n",
    "        else:\n",
    "            return \"error\"\n",
    "            \n",
    "    except Exception as e:\n",
    "        print(f\"Error occurred: {e}\")"
   ]
  },
  {
   "cell_type": "code",
   "execution_count": null,
   "id": "42d32f6a-2eb9-4021-8907-214f8b82b661",
   "metadata": {},
   "outputs": [],
   "source": [
    "df = pd.read_excel('news_dataset.xlsx')"
   ]
  },
  {
   "cell_type": "code",
   "execution_count": null,
   "id": "26dc2b66-71b5-4625-b8e6-a15a0cb97cd5",
   "metadata": {},
   "outputs": [],
   "source": [
    "df.iloc[2999]['URL']"
   ]
  },
  {
   "cell_type": "code",
   "execution_count": null,
   "id": "d941ad99-502d-4607-a524-3349694fb3a4",
   "metadata": {},
   "outputs": [],
   "source": [
    "for index,row in df.iloc[4700:4850].iterrows(): \n",
    "    df.at[index,'URL'] = decode_url(row['link'])"
   ]
  },
  {
   "cell_type": "code",
   "execution_count": null,
   "id": "5dec6d4c-99c5-4f7d-af53-6dacd12a33aa",
   "metadata": {},
   "outputs": [],
   "source": [
    "df.iloc[4849]['URL']"
   ]
  },
  {
   "cell_type": "code",
   "execution_count": null,
   "id": "c87e387b-f7da-4df8-abb0-d8fe77fcca0d",
   "metadata": {},
   "outputs": [],
   "source": [
    "df.to_excel(\"news_dataset.xlsx\")"
   ]
  },
  {
   "cell_type": "code",
   "execution_count": null,
   "id": "995f54e3-a2b0-44e5-9076-91f40982746a",
   "metadata": {},
   "outputs": [],
   "source": [
    "#4849 total articles"
   ]
  },
  {
   "cell_type": "markdown",
   "id": "d7081184-5b4b-4482-ae1b-19388414e094",
   "metadata": {},
   "source": [
    "### Create Summaries"
   ]
  },
  {
   "cell_type": "code",
   "execution_count": null,
   "id": "7db0859f-9000-4127-9d11-f91e59898dd5",
   "metadata": {},
   "outputs": [],
   "source": [
    "## Have to make sure that if the article doesn't exist, we just return nothing, if its a video... do something"
   ]
  },
  {
   "cell_type": "code",
   "execution_count": null,
   "id": "62a85a60-2dce-4031-9f51-9eaa68b9d4b2",
   "metadata": {},
   "outputs": [],
   "source": [
    "from newspaper import Article"
   ]
  },
  {
   "cell_type": "code",
   "execution_count": null,
   "id": "88795080-af97-4cd4-8a75-1d0dee49c57c",
   "metadata": {},
   "outputs": [],
   "source": [
    "openai.api_key = \"\"\n",
    "\n",
    "def summarize_text(url, model=\"gpt-3.5-turbo\"):\n",
    "    \"\"\"\n",
    "    Sends a text to OpenAI's ChatGPT model and returns a summary.\n",
    "\n",
    "    Args:\n",
    "        text: The text to summarize.\n",
    "        model: The OpenAI model to use (default: \"gpt-3.5-turbo\").\n",
    "\n",
    "    Returns:\n",
    "        A string containing the summarized text, or None if an error occurs.\n",
    "    \"\"\"\n",
    "    prompt = f\"\"\"Please analyze the following link:\\n{url}\n",
    "    Create a paragraph summary of the article and extract the key entities (people, organizations, countries) as well as the key topics of the article. If the link\n",
    "    directs to a page that doesn't exist or get redirected to a new page, then return None for the summary, the entities, and topics\n",
    "\n",
    "    Format your return as a JSON format where the keys are summary, entities, and topics and the summary value is a paragraph of. The entities and topics values\n",
    "    should be a list of strings. \n",
    "\n",
    "    \"\"\"\n",
    "    \n",
    "    try:\n",
    "        response = openai.chat.completions.create(\n",
    "            model=model,\n",
    "            messages=[\n",
    "                {\"role\": \"user\", \"content\": prompt}\n",
    "            ]\n",
    "        )\n",
    "        summary = response.choices[0].message.content\n",
    "        result = ast.literal_eval(summary)\n",
    "        return result\n",
    "    except Exception as e:\n",
    "        print(f\"An error occurred: {e}\")\n",
    "        return None"
   ]
  },
  {
   "cell_type": "code",
   "execution_count": null,
   "id": "c7cb44a3-d6eb-4187-b308-b776ff208e5e",
   "metadata": {},
   "outputs": [],
   "source": [
    "df = pd.read_excel('news_dataset.xlsx', index_col=0)\n",
    "df['summary'] = None\n",
    "df['entities'] = None\n",
    "df['topics'] = None\n",
    "df['entities'] = df['entities'].astype('object')\n",
    "df['entities'] = df['topics'].astype('object')"
   ]
  },
  {
   "cell_type": "code",
   "execution_count": null,
   "id": "86edbcd9-1d37-4ff2-899c-5d77a3e2f476",
   "metadata": {},
   "outputs": [],
   "source": [
    "df = pd.read_excel('news_dataset.xlsx', index_col=0)"
   ]
  },
  {
   "cell_type": "code",
   "execution_count": null,
   "id": "2744e0e5-9a06-4c17-8ae9-df224044282e",
   "metadata": {},
   "outputs": [],
   "source": [
    "for index,row in tqdm(df.iloc[4000:4745].iterrows()): \n",
    "    summaries = summarize_text(df.at[index,'URL'])\n",
    "    #results = ast.literal_eval(summaries)\n",
    "    if summaries is None: \n",
    "        summaries_2 = summarize_text(df.at[index,'URL'])\n",
    "        df.at[index,'summary'] = summaries_2['summary']\n",
    "        df.at[index,'entities'] = summaries_2['entities']\n",
    "        df.at[index,'topics'] = summaries_2['topics']\n",
    "    else: \n",
    "        df.at[index,'summary'] = summaries['summary']\n",
    "        df.at[index,'entities'] = summaries['entities']\n",
    "        df.at[index,'topics'] = summaries['topics']"
   ]
  },
  {
   "cell_type": "code",
   "execution_count": null,
   "id": "e6d712cc-6968-4e0b-8117-c12208ed6071",
   "metadata": {},
   "outputs": [],
   "source": [
    "df.to_excel(\"news_dataset.xlsx\")"
   ]
  },
  {
   "cell_type": "code",
   "execution_count": null,
   "id": "926a6ad2-3bd5-45e7-87f9-4138e56d991e",
   "metadata": {},
   "outputs": [],
   "source": [
    "len(df)"
   ]
  },
  {
   "cell_type": "code",
   "execution_count": null,
   "id": "385cc8ef-197d-4e21-b4dc-c657d02b64af",
   "metadata": {},
   "outputs": [],
   "source": [
    "df.iloc[3998]"
   ]
  },
  {
   "cell_type": "code",
   "execution_count": null,
   "id": "b478ce6a-8296-41a0-92a3-082127719417",
   "metadata": {},
   "outputs": [],
   "source": [
    "results = ast.literal_eval(summarize_text(df.iloc[474]['URL']))"
   ]
  },
  {
   "cell_type": "code",
   "execution_count": null,
   "id": "37b8ca1d-87b8-46a0-b555-520f7a68f604",
   "metadata": {},
   "outputs": [],
   "source": [
    "## Need error catching and retrying if ChatGPT breaks/fails\n",
    "## Sometimes ChatGPT can't read the article"
   ]
  },
  {
   "cell_type": "code",
   "execution_count": null,
   "id": "3a55cae1-9d00-4799-bd78-2edf4035726d",
   "metadata": {},
   "outputs": [],
   "source": [
    "# Actors and what they broadly want to do\n",
    "# sorting and applying things? "
   ]
  },
  {
   "cell_type": "markdown",
   "id": "66a3549c-d581-44ba-8e7a-754d168770d1",
   "metadata": {},
   "source": [
    "### GovInfo"
   ]
  },
  {
   "cell_type": "code",
   "execution_count": null,
   "id": "df48fa4a-0982-4f54-aee5-cd9edd424c97",
   "metadata": {},
   "outputs": [],
   "source": [
    "import requests\n",
    "import csv\n",
    "from bs4 import BeautifulSoup\n",
    "import pandas as pd\n",
    "\n",
    "content_url = f\"https://api.govinfo.gov/published/2025-01-01/2025-02-28?offsetMark=*&pageSize=100&collection=CPD&api_key=ncS7uKAowhhCuCTd4YO80ZHzRCCiFycccaG2yoCf\"\n",
    "content_response = requests.get(content_url)"
   ]
  },
  {
   "cell_type": "code",
   "execution_count": null,
   "id": "77370460-ca8e-4248-b647-cd7d62c1a75f",
   "metadata": {},
   "outputs": [],
   "source": [
    "content_data = content_response.json()"
   ]
  },
  {
   "cell_type": "code",
   "execution_count": null,
   "id": "0679cf99-6d3a-4216-a1eb-d5d4ada36fc3",
   "metadata": {},
   "outputs": [],
   "source": [
    "API_KEY = \"\"\n",
    "BASE_URL = \"https://api.govinfo.gov\"\n",
    "\n",
    "documents_list = [] \n",
    "\n",
    "for package in content_data['packages']:\n",
    "    title = package['title']\n",
    "    date_issued = package['dateIssued']\n",
    "    content_url = f\"{BASE_URL}/packages/{package['packageId']}/htm?api_key={API_KEY}\"\n",
    "    content_response = requests.get(content_url)\n",
    "    if content_response.status_code == 200:\n",
    "        content_data = content_response.text\n",
    "        soup = BeautifulSoup(content_data, 'html.parser')\n",
    "        content = str(soup.get_text())\n",
    "    else:\n",
    "        content = \"Error retrieving content\"\n",
    "    documents_list.append([title, date_issued, content])\n",
    "\n",
    "# Convert to DataFrame\n",
    "df = pd.DataFrame(documents_list, columns=[\"Title\", \"Date\", \"Content\"])\n",
    "\n",
    "# Save as Excel file\n",
    "xlsx_filename = \"cpd_documents.xlsx\"\n",
    "df.to_excel(xlsx_filename, index=False)\n",
    "\n",
    "print(f\"Data successfully saved to {xlsx_filename}\")"
   ]
  },
  {
   "cell_type": "code",
   "execution_count": null,
   "id": "4964f77d-5cab-43da-beb5-be610041e6a7",
   "metadata": {},
   "outputs": [],
   "source": [
    "content_data"
   ]
  },
  {
   "cell_type": "code",
   "execution_count": null,
   "id": "5e98909f-624e-40b1-b5ae-f98d30021fe1",
   "metadata": {},
   "outputs": [],
   "source": []
  }
 ],
 "metadata": {
  "kernelspec": {
   "display_name": "Python 3 (ipykernel)",
   "language": "python",
   "name": "python3"
  },
  "language_info": {
   "codemirror_mode": {
    "name": "ipython",
    "version": 3
   },
   "file_extension": ".py",
   "mimetype": "text/x-python",
   "name": "python",
   "nbconvert_exporter": "python",
   "pygments_lexer": "ipython3",
   "version": "3.12.2"
  }
 },
 "nbformat": 4,
 "nbformat_minor": 5
}

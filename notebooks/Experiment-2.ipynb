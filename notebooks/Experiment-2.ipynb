{
 "cells": [
  {
   "cell_type": "markdown",
   "id": "4de87243-a63d-43be-8786-af4b19871669",
   "metadata": {},
   "source": [
    "### Experiment with multiple variables"
   ]
  },
  {
   "cell_type": "code",
   "execution_count": null,
   "id": "e29dbb9d-8fd0-48c0-b31a-f8507e1e98b3",
   "metadata": {},
   "outputs": [],
   "source": [
    "import sys\n",
    "sys.path.append('../')\n",
    "from src.sampling import sample_from_distribution\n",
    "from src import Game,BackwardInductionSolver\n",
    "import pandas as pd\n",
    "import numpy as np\n",
    "from tqdm import tqdm\n",
    "import time\n",
    "import matplotlib.pyplot as plt"
   ]
  },
  {
   "cell_type": "code",
   "execution_count": null,
   "id": "7c12a25c-b608-4a38-8d2f-645bb25a31cc",
   "metadata": {},
   "outputs": [],
   "source": [
    "player_1 = \"China\" \n",
    "player_2 = \"US\" "
   ]
  },
  {
   "cell_type": "markdown",
   "id": "1506c538-6753-4f35-9854-e6c43f27880d",
   "metadata": {},
   "source": [
    "### TT Data"
   ]
  },
  {
   "cell_type": "code",
   "execution_count": null,
   "id": "9e291792-f483-4c0a-9158-f8f895a69bdd",
   "metadata": {},
   "outputs": [],
   "source": [
    "player1_tt = {\"tt\": {\"var1\": {\"mean\":-1,\n",
    "                              \"stdev\":1\n",
    "                             },\n",
    "                     \"var2\": {\"mean\":-1,\n",
    "                              \"stdev\":1\n",
    "                             },\n",
    "                     \"var3\": {\"mean\":-1,\n",
    "                              \"stdev\":1\n",
    "                             },\n",
    "                     \"var4\": {\"mean\":-1,\n",
    "                              \"stdev\":1\n",
    "                             },\n",
    "                     \"var5\": {\"mean\":-1,\n",
    "                              \"stdev\":1\n",
    "                             },\n",
    "                    }\n",
    "             }\n",
    "\n",
    "player2_tt = {\"tt\": {\"var1\": {\"mean\":-1,\n",
    "                              \"stdev\":1\n",
    "                             },\n",
    "                     \"var2\": {\"mean\":-1,\n",
    "                              \"stdev\":1\n",
    "                             },\n",
    "                     \"var3\": {\"mean\":-1,\n",
    "                              \"stdev\":1\n",
    "                             },\n",
    "                     \"var4\": {\"mean\":-1,\n",
    "                              \"stdev\":1\n",
    "                             },\n",
    "                     \"var5\": {\"mean\":-1,\n",
    "                              \"stdev\":1\n",
    "                             },\n",
    "                    }\n",
    "             }"
   ]
  },
  {
   "cell_type": "markdown",
   "id": "58805d01-8b5c-443c-8808-fe77ca470f01",
   "metadata": {},
   "source": [
    "### TNT Data"
   ]
  },
  {
   "cell_type": "code",
   "execution_count": null,
   "id": "3a46f55b-49cc-4185-bddc-70771d42c602",
   "metadata": {},
   "outputs": [],
   "source": [
    "player1_tnt = {\"tnt\": {\"var1\": {\"mean\":1,\n",
    "                                \"stdev\":1\n",
    "                               },\n",
    "                       \"var2\": {\"mean\":-1,\n",
    "                                \"stdev\":1\n",
    "                               },\n",
    "                       \"var3\": {\"mean\":1,\n",
    "                                \"stdev\":1\n",
    "                               },\n",
    "                       \"var4\": {\"mean\":-1,\n",
    "                                \"stdev\":1\n",
    "                               },\n",
    "                       \"var5\": {\"mean\":0,\n",
    "                              \"stdev\":1\n",
    "                             },\n",
    "                      }\n",
    "              }\n",
    "\n",
    "player2_tnt = {\"tnt\": {\"var1\": {\"mean\":-2,\n",
    "                                \"stdev\":1\n",
    "                               },\n",
    "                       \"var2\": {\"mean\":-2,\n",
    "                                \"stdev\":1\n",
    "                               },\n",
    "                       \"var3\": {\"mean\":-2,\n",
    "                                \"stdev\":1\n",
    "                               },\n",
    "                       \"var4\": {\"mean\":-2,\n",
    "                                \"stdev\":1\n",
    "                               },\n",
    "                       \"var5\": {\"mean\":-2,\n",
    "                              \"stdev\":1\n",
    "                             },\n",
    "                      }\n",
    "              }"
   ]
  },
  {
   "cell_type": "markdown",
   "id": "437e813c-3c63-465b-88bf-b86b39e0488d",
   "metadata": {},
   "source": [
    "### NTT Data"
   ]
  },
  {
   "cell_type": "code",
   "execution_count": null,
   "id": "be118d71-3c4a-47af-9fa3-db96820a7863",
   "metadata": {},
   "outputs": [],
   "source": [
    "player1_ntt = {\"ntt\": {\"var1\": {\"mean\":-2,\n",
    "                                \"stdev\":1\n",
    "                               },\n",
    "                       \"var2\": {\"mean\":-2,\n",
    "                                \"stdev\":1\n",
    "                               },\n",
    "                       \"var3\": {\"mean\":-2,\n",
    "                                \"stdev\":1\n",
    "                               },\n",
    "                       \"var4\": {\"mean\":-2,\n",
    "                                \"stdev\":1\n",
    "                               },\n",
    "                       \"var5\": {\"mean\":-2,\n",
    "                              \"stdev\":1\n",
    "                             },\n",
    "                      }\n",
    "              }\n",
    "\n",
    "player2_ntt = {\"ntt\": {\"var1\": {\"mean\":1,\n",
    "                                \"stdev\":1\n",
    "                               },\n",
    "                       \"var2\": {\"mean\":-1,\n",
    "                                \"stdev\":1\n",
    "                               },\n",
    "                       \"var3\": {\"mean\":1,\n",
    "                                \"stdev\":1\n",
    "                               },\n",
    "                       \"var4\": {\"mean\":-1,\n",
    "                                \"stdev\":1\n",
    "                               },\n",
    "                       \"var5\": {\"mean\":0,\n",
    "                              \"stdev\":1\n",
    "                             },\n",
    "                      }\n",
    "              }"
   ]
  },
  {
   "cell_type": "markdown",
   "id": "af92282e-26a1-4876-9f6b-523360847ee8",
   "metadata": {},
   "source": [
    "### NTNT Data"
   ]
  },
  {
   "cell_type": "code",
   "execution_count": null,
   "id": "4169bcc2-0a60-44be-be82-3eb8270ce551",
   "metadata": {},
   "outputs": [],
   "source": [
    "player1_ntnt = {\"ntnt\": {\"var1\": {\"mean\":-1,\n",
    "                                \"stdev\":1\n",
    "                               },\n",
    "                       \"var2\": {\"mean\":-1,\n",
    "                                \"stdev\":1\n",
    "                               },\n",
    "                       \"var3\": {\"mean\":-1,\n",
    "                                \"stdev\":1\n",
    "                               },\n",
    "                       \"var4\": {\"mean\":-1,\n",
    "                                \"stdev\":1\n",
    "                               },\n",
    "                       \"var5\": {\"mean\":-1,\n",
    "                              \"stdev\":1\n",
    "                             },\n",
    "                      }\n",
    "              }\n",
    "\n",
    "player2_ntnt = {\"ntnt\": {\"var1\": {\"mean\":-1,\n",
    "                                \"stdev\":1\n",
    "                               },\n",
    "                       \"var2\": {\"mean\":-1,\n",
    "                                \"stdev\":1\n",
    "                               },\n",
    "                       \"var3\": {\"mean\":-1,\n",
    "                                \"stdev\":1\n",
    "                               },\n",
    "                       \"var4\": {\"mean\":-1,\n",
    "                                \"stdev\":1\n",
    "                               },\n",
    "                       \"var5\": {\"mean\":-1,\n",
    "                              \"stdev\":1\n",
    "                             },\n",
    "                      }\n",
    "              }"
   ]
  },
  {
   "cell_type": "code",
   "execution_count": null,
   "id": "25109351-f408-4283-92ea-c83142d46f2d",
   "metadata": {},
   "outputs": [],
   "source": [
    "player1_data = player1_tt | player1_tnt | player1_ntt | player1_ntnt\n",
    "player2_data = player2_tt | player2_tnt | player2_ntt | player2_ntnt"
   ]
  },
  {
   "cell_type": "code",
   "execution_count": null,
   "id": "0722106c-a310-4cae-8d0b-86a99804511b",
   "metadata": {},
   "outputs": [],
   "source": [
    "player1_data"
   ]
  },
  {
   "cell_type": "code",
   "execution_count": null,
   "id": "b0aecae0-71b5-43ed-8e56-69f86f929094",
   "metadata": {},
   "outputs": [],
   "source": [
    "class Player(): \n",
    "    def __init__(self, data, player_name):\n",
    "        self.data = data \n",
    "        self.name = player_name\n",
    "\n",
    "    def calculate_payoff(self, scenario, payoff_func):\n",
    "        # To Do: Can I make this more generalizable and less hardcoded? \n",
    "        var1 = float(sample_from_distribution(self.data[scenario]['var1']['mean'], self.data[scenario]['var1']['stdev'], num_samples=1)[0])\n",
    "        var2 = float(sample_from_distribution(self.data[scenario]['var2']['mean'], self.data[scenario]['var2']['stdev'], num_samples=1)[0])\n",
    "        var3 = float(sample_from_distribution(self.data[scenario]['var3']['mean'], self.data[scenario]['var3']['stdev'], num_samples=1)[0])\n",
    "        var4 = float(sample_from_distribution(self.data[scenario]['var4']['mean'], self.data[scenario]['var4']['stdev'], num_samples=1)[0])\n",
    "        var5 = float(sample_from_distribution(self.data[scenario]['var5']['mean'], self.data[scenario]['var5']['stdev'], num_samples=1)[0])\n",
    "        variables_used = {'var1': var1, \"var2\": var2, \"var3\": var3, \"var4\": var4, 'var5': var5}\n",
    "        return variables_used, payoff_func(var1, var2, var3, var4, var5)"
   ]
  },
  {
   "cell_type": "code",
   "execution_count": null,
   "id": "db4cbeb4-e788-4d79-a058-5290307c3f47",
   "metadata": {},
   "outputs": [],
   "source": [
    "def payoffs_formula(var1, var2, var3, var4, var5): \n",
    "    return var1+var2+var3+var4+var5"
   ]
  },
  {
   "cell_type": "code",
   "execution_count": null,
   "id": "441cac86-c1eb-4ca7-a535-d7e15462e3cb",
   "metadata": {},
   "outputs": [],
   "source": [
    "def create_game(outcomes):\n",
    "    # Create a new game where \"China\" is the root player\n",
    "    game = Game()\n",
    "    \n",
    "    # Add moves: China chooses between \"Tariff\" or \"No Tariff\"\n",
    "    game.add_moves(player=\"China\", actions=[\"Tariff\", \"No Tariff\"])\n",
    "    \n",
    "    # Add moves: The US responds to China's move\n",
    "    game.add_moves(player=\"US\", actions=[\"Tariff\", \"No Tariff\"])\n",
    "    \n",
    "    game.add_outcomes(outcomes)\n",
    "\n",
    "    return game"
   ]
  },
  {
   "cell_type": "code",
   "execution_count": null,
   "id": "1eeb4459-4541-481f-9fe3-be0084bf6055",
   "metadata": {},
   "outputs": [],
   "source": [
    "player1 = Player(player1_data, \"China\")\n",
    "player2 = Player(player2_data, \"USA\")\n",
    "num_sims = 1000\n",
    "\n",
    "tt = {} \n",
    "tnt = {} \n",
    "ntt = {} \n",
    "ntnt = {} \n",
    "results = {}"
   ]
  },
  {
   "cell_type": "code",
   "execution_count": null,
   "id": "89a03128-b694-489b-b19b-fd56c6fee12b",
   "metadata": {},
   "outputs": [],
   "source": [
    "for i in tqdm(range(num_sims)): \n",
    "    # Sample Player 1 Payoffs \n",
    "    p1_tt_variables, p1_tt = player1.calculate_payoff('tt', payoffs_formula)\n",
    "    p1_tnt_variables, p1_tnt = player1.calculate_payoff('tnt', payoffs_formula)\n",
    "    p1_ntt_variables, p1_ntt = player1.calculate_payoff('ntt', payoffs_formula)\n",
    "    p1_ntnt_variables, p1_ntnt = player1.calculate_payoff('ntnt', payoffs_formula)\n",
    "\n",
    "    player1_payoffs = {'tt': p1_tt, 'tnt': p1_tnt, 'ntt': p1_ntt, 'ntnt': p1_ntnt} \n",
    "    \n",
    "    # Sample Player 2 payoffs\n",
    "    p2_tt_variables, p2_tt = player2.calculate_payoff('tt', payoffs_formula)\n",
    "    p2_tnt_variables, p2_tnt = player2.calculate_payoff('tnt', payoffs_formula)\n",
    "    p2_ntt_variables, p2_ntt = player2.calculate_payoff('ntt', payoffs_formula)\n",
    "    p2_ntnt_variables, p2_ntnt = player2.calculate_payoff('ntnt', payoffs_formula)\n",
    "    \n",
    "    player2_payoffs = {'tt': p2_tt, 'tnt': p2_tnt, 'ntt': p2_ntt, 'ntnt': p2_ntnt} \n",
    "\n",
    "    outcomes = [\n",
    "        (int(p1_tt), int(p2_tt)),  # Both impose tariffs\n",
    "        (int(p1_tnt), int(p2_tnt)),    # China tariffs, US does not\n",
    "        (int(p1_ntt), int(p2_ntt)),   # China does not tariff, US does\n",
    "        (int(p1_ntnt), int(p2_ntnt))   # Neither imposes tariffs\n",
    "    ]\n",
    "\n",
    "    tt[i] = {'player1': p1_tt_variables,\n",
    "             'player2': p2_tt_variables}\n",
    "\n",
    "    tnt[i] = {'player1': p1_tnt_variables,\n",
    "             'player2': p2_tnt_variables}\n",
    "\n",
    "    ntt[i] = {'player1': p1_ntt_variables,\n",
    "             'player2': p2_ntt_variables}\n",
    "    \n",
    "    ntnt[i] = {'player1': p1_ntnt_variables,\n",
    "             'player2': p2_ntnt_variables}\n",
    "\n",
    "    g = create_game(outcomes)\n",
    "    solver = BackwardInductionSolver(g)\n",
    "    solver.solve()\n",
    "    sim_result = solver.record_equilibrium() # What happens if there are two equilibria? \n",
    "\n",
    "    results[i] = {'player1': player1_payoffs,\n",
    "                  'player2': player2_payoffs, \n",
    "                  'actions': sim_result\n",
    "                 }"
   ]
  },
  {
   "cell_type": "code",
   "execution_count": null,
   "id": "dfc742da-e40d-4814-9951-d03b022b8681",
   "metadata": {},
   "outputs": [],
   "source": [
    "def convert_dict_to_df(dictionary): \n",
    "    # First, let's create an empty list to store our data\n",
    "    data = []\n",
    "    \n",
    "    # Iterate through each key-value pair in the outer dictionary\n",
    "    for scenario, players in dictionary.items():\n",
    "        # Create a row dictionary for this scenario\n",
    "        row = {'simulation': scenario}\n",
    "        \n",
    "        # Iterate through each player\n",
    "        for player, variables in players.items():\n",
    "            # Iterate through each variable for this player\n",
    "            for var_name, var_value in variables.items():\n",
    "                # Create a column name by combining player and variable names\n",
    "                column_name = f\"{player}{var_name}\"\n",
    "                # Add this data to our row\n",
    "                row[column_name] = var_value\n",
    "        \n",
    "        # Add the completed row to our data list\n",
    "        data.append(row)\n",
    "    \n",
    "    # Create a DataFrame from our list of dictionaries\n",
    "    df = pd.DataFrame(data)\n",
    "    \n",
    "    # Set the scenario column as the index\n",
    "    df.set_index('simulation', inplace=True)\n",
    "    return df"
   ]
  },
  {
   "cell_type": "code",
   "execution_count": null,
   "id": "ccc29d58-137d-4850-8412-c7a472ede971",
   "metadata": {},
   "outputs": [],
   "source": [
    "tt_df = convert_dict_to_df(tt) \n",
    "tnt_df = convert_dict_to_df(tnt)\n",
    "ntt_df = convert_dict_to_df(ntt)\n",
    "ntnt_df = convert_dict_to_df(ntnt) \n",
    "results_df = convert_dict_to_df(results)"
   ]
  },
  {
   "cell_type": "code",
   "execution_count": null,
   "id": "99688fce-77a0-4c11-bd5e-4429ee04fcb1",
   "metadata": {},
   "outputs": [],
   "source": [
    "with pd.ExcelWriter('output.xlsx') as writer:  \n",
    "    tt_df.to_excel(writer, sheet_name='Tariff Tariff')\n",
    "    tnt_df.to_excel(writer, sheet_name='Tariff No Tariff')\n",
    "    ntt_df.to_excel(writer, sheet_name='No Tariff Tariff')\n",
    "    ntnt_df.to_excel(writer, sheet_name='No Tariff No Tariff')\n",
    "    results_df.to_excel(writer, sheet_name='Game Results')"
   ]
  },
  {
   "cell_type": "markdown",
   "id": "343b517d-f993-47f3-a398-b4c7bf27b9f8",
   "metadata": {},
   "source": [
    "## Summary of Game Results"
   ]
  },
  {
   "cell_type": "code",
   "execution_count": null,
   "id": "462c705e-1d4b-491c-81b9-658796467a21",
   "metadata": {},
   "outputs": [],
   "source": [
    "df = pd.read_excel('output.xlsx', sheet_name = 'Game Results')\n",
    "col1 = 'actionsChina'\n",
    "col2 = 'actionsUS'\n",
    "\n",
    "tuples = list(zip(df[col1], df[col2]))\n",
    "unique_tuples = list(set(tuples))\n",
    "\n",
    "tuple_counts = {}\n",
    "for tup in unique_tuples:\n",
    "    tuple_counts[tup] = tuples.count(tup)\n",
    "\n",
    "plt.figure(figsize=(10, 6))\n",
    "labels = [f\"{col1[7:]} {t[0]}, {col2[7:]} {t[1]}\" for t in unique_tuples]\n",
    "counts = list(tuple_counts.values())\n",
    "\n",
    "sorted_indices = np.argsort(counts)[::-1]  # Descending order\n",
    "sorted_labels = [labels[i] for i in sorted_indices]\n",
    "sorted_counts = [counts[i] for i in sorted_indices]\n",
    "bars = plt.bar(range(len(sorted_labels)), sorted_counts)\n",
    "plt.xticks(range(len(sorted_labels)), sorted_labels, rotation=45, ha='right')\n",
    "plt.xlabel('Unique Value Pairs')\n",
    "plt.ylabel('Frequency')\n",
    "plt.title(f'Frequency of Outcomes')\n",
    "for bar in bars:\n",
    "    height = bar.get_height()\n",
    "    plt.text(bar.get_x() + bar.get_width()/2., height + 0.1,\n",
    "             f'{int(height)}', ha='center', va='bottom')\n",
    "plt.tight_layout()\n",
    "plt.show()"
   ]
  },
  {
   "cell_type": "markdown",
   "id": "5fd2e44d-f696-4684-84bc-b600ccec0e89",
   "metadata": {},
   "source": [
    "## Review Game Results"
   ]
  },
  {
   "cell_type": "code",
   "execution_count": null,
   "id": "bd37a69b-4ccc-4c8a-95d2-5b43cf1c1568",
   "metadata": {},
   "outputs": [],
   "source": [
    "simulation_number = 19"
   ]
  },
  {
   "cell_type": "code",
   "execution_count": null,
   "id": "467945bf-a1a1-4494-8846-d1527bbcc22b",
   "metadata": {},
   "outputs": [],
   "source": [
    "print(f'TT outcomes is: ({df.loc[simulation_number]['player1tt']:.2f}, {df.loc[simulation_number]['player2tt']:.2f})')\n",
    "print(f'TNT outcomes is: ({df.loc[simulation_number]['player1tnt']:.2f}, {df.loc[simulation_number]['player2tnt']:.2f})')\n",
    "print(f'NTT outcomes is: ({df.loc[simulation_number]['player1ntt']:.2f}, {df.loc[simulation_number]['player2ntt']:.2f})')\n",
    "print(f'NTNT outcomes is: ({df.loc[simulation_number]['player1ntnt']:.2f}, {df.loc[simulation_number]['player2ntnt']:.2f})')"
   ]
  },
  {
   "cell_type": "code",
   "execution_count": null,
   "id": "697dbb08-3123-4774-971c-d1cc0e0e4093",
   "metadata": {},
   "outputs": [],
   "source": [
    "outcomes = [\n",
    "        (np.round(df.loc[simulation_number]['player1tt'], 2), np.round(df.loc[simulation_number]['player2tt'],2)),  # Both impose tariffs\n",
    "        (np.round(df.loc[simulation_number]['player1tnt'], 2), np.round(df.loc[simulation_number]['player2tnt'],2)),    # China tariffs, US does not\n",
    "        (np.round(df.loc[simulation_number]['player1ntt'], 2), np.round(df.loc[simulation_number]['player2ntt'],2)),   # China does not tariff, US does\n",
    "        (np.round(df.loc[simulation_number]['player1ntnt'], 2), np.round(df.loc[simulation_number]['player2ntnt'],2))   # Neither imposes tariffs\n",
    "    ]"
   ]
  },
  {
   "cell_type": "code",
   "execution_count": null,
   "id": "713dbd74-dd1c-4ecd-a5d9-399fab4db249",
   "metadata": {},
   "outputs": [],
   "source": [
    "g = create_game(outcomes)\n",
    "solver = BackwardInductionSolver(g)\n",
    "solver.solve()\n",
    "solver.visualize_equilibrium()"
   ]
  },
  {
   "cell_type": "code",
   "execution_count": null,
   "id": "094438b3-4c7b-4626-908c-a76b53a1f166",
   "metadata": {},
   "outputs": [],
   "source": []
  },
  {
   "cell_type": "code",
   "execution_count": null,
   "id": "b4d7fb23-9999-4437-af1d-08876624d5c0",
   "metadata": {},
   "outputs": [],
   "source": []
  }
 ],
 "metadata": {
  "kernelspec": {
   "display_name": "Python 3 (ipykernel)",
   "language": "python",
   "name": "python3"
  },
  "language_info": {
   "codemirror_mode": {
    "name": "ipython",
    "version": 3
   },
   "file_extension": ".py",
   "mimetype": "text/x-python",
   "name": "python",
   "nbconvert_exporter": "python",
   "pygments_lexer": "ipython3",
   "version": "3.12.2"
  }
 },
 "nbformat": 4,
 "nbformat_minor": 5
}

{
 "cells": [
  {
   "cell_type": "code",
   "execution_count": null,
   "id": "e3898f82-7095-4f9c-87cf-bccf9e185812",
   "metadata": {},
   "outputs": [],
   "source": [
    "import sys\n",
    "sys.path.append('../')\n",
    "from src.sampling import sample_from_distribution\n",
    "from src import Game,BackwardInductionSolver\n",
    "import pandas as pd\n",
    "import numpy as np\n",
    "from tqdm import tqdm\n",
    "import time\n",
    "import matplotlib.pyplot as plt"
   ]
  },
  {
   "cell_type": "code",
   "execution_count": null,
   "id": "df74f520-6332-421b-96f8-671a7430b19a",
   "metadata": {},
   "outputs": [],
   "source": [
    "def create_game(outcomes):\n",
    "    # Create a new game where \"China\" is the root player\n",
    "    game = Game()\n",
    "    \n",
    "    # Add moves: China chooses between \"Tariff\" or \"No Tariff\"\n",
    "    game.add_moves(player=\"Player 1\", actions=[\"Defect\", \"Cooperate\"])\n",
    "    \n",
    "    # Add moves: The US responds to China's move\n",
    "    game.add_moves(player=\"Player 2\", actions=[\"Defect\", \"Cooperate\"])\n",
    "    \n",
    "    game.add_outcomes(outcomes)\n",
    "\n",
    "    return game"
   ]
  },
  {
   "cell_type": "markdown",
   "id": "1962c048-67fc-44f2-b987-bf68817e5b9e",
   "metadata": {},
   "source": [
    "## Summary of Game Results"
   ]
  },
  {
   "cell_type": "code",
   "execution_count": null,
   "id": "7f1a2696-ab45-4441-b773-89ca9393f3fc",
   "metadata": {},
   "outputs": [],
   "source": [
    "df = pd.read_excel('../output.xlsx', sheet_name = 'Game Results')\n",
    "col1 = 'actionsPlayer1'\n",
    "col2 = 'actionsPlayer2'\n",
    "\n",
    "tuples = list(zip(df[col1], df[col2]))\n",
    "unique_tuples = list(set(tuples))\n",
    "\n",
    "tuple_counts = {}\n",
    "for tup in unique_tuples:\n",
    "    tuple_counts[tup] = tuples.count(tup)\n",
    "\n",
    "plt.figure(figsize=(10, 6))\n",
    "labels = [f\"{col1[7:]} {t[0]}, {col2[7:]} {t[1]}\" for t in unique_tuples]\n",
    "counts = list(tuple_counts.values())\n",
    "\n",
    "sorted_indices = np.argsort(counts)[::-1]  # Descending order\n",
    "sorted_labels = [labels[i] for i in sorted_indices]\n",
    "sorted_counts = [counts[i] for i in sorted_indices]\n",
    "bars = plt.bar(range(len(sorted_labels)), sorted_counts)\n",
    "plt.xticks(range(len(sorted_labels)), sorted_labels, rotation=45, ha='right')\n",
    "plt.xlabel('Unique Value Pairs')\n",
    "plt.ylabel('Frequency')\n",
    "plt.title(f'Frequency of Outcomes')\n",
    "for bar in bars:\n",
    "    height = bar.get_height()\n",
    "    plt.text(bar.get_x() + bar.get_width()/2., height + 0.1,\n",
    "             f'{int(height)}', ha='center', va='bottom')\n",
    "plt.tight_layout()\n",
    "plt.show()"
   ]
  },
  {
   "cell_type": "markdown",
   "id": "0592f157-ff47-48fd-9db6-10c721feb253",
   "metadata": {},
   "source": [
    "## Review Game Results"
   ]
  },
  {
   "cell_type": "code",
   "execution_count": null,
   "id": "2fc4ed7e-3997-4a07-a429-da2bd52645c0",
   "metadata": {},
   "outputs": [],
   "source": [
    "simulation_number = 4"
   ]
  },
  {
   "cell_type": "code",
   "execution_count": null,
   "id": "f22f3b4a-94d2-415f-a771-94a45612c2d3",
   "metadata": {},
   "outputs": [],
   "source": [
    "print(f'TT outcomes is: ({df.loc[simulation_number]['player1dd']:.2f}, {df.loc[simulation_number]['player2dd']:.2f})')\n",
    "print(f'TNT outcomes is: ({df.loc[simulation_number]['player1dc']:.2f}, {df.loc[simulation_number]['player2dc']:.2f})')\n",
    "print(f'NTT outcomes is: ({df.loc[simulation_number]['player1cd']:.2f}, {df.loc[simulation_number]['player2cd']:.2f})')\n",
    "print(f'NTNT outcomes is: ({df.loc[simulation_number]['player1cc']:.2f}, {df.loc[simulation_number]['player2cc']:.2f})')"
   ]
  },
  {
   "cell_type": "code",
   "execution_count": null,
   "id": "bb86a3be-8e50-4743-94a5-7ed907e154bd",
   "metadata": {},
   "outputs": [],
   "source": [
    "outcomes = [\n",
    "        (np.round(df.loc[simulation_number]['player1dd'], 2), np.round(df.loc[simulation_number]['player2dd'],2)),  # Both defect\n",
    "        (np.round(df.loc[simulation_number]['player1dc'], 2), np.round(df.loc[simulation_number]['player2dc'],2)),  # Player 1 defects, Player 2 cooperates\n",
    "        (np.round(df.loc[simulation_number]['player1cd'], 2), np.round(df.loc[simulation_number]['player2cd'],2)),  # Player 1 cooperates, Player 2 defects\n",
    "        (np.round(df.loc[simulation_number]['player1cc'], 2), np.round(df.loc[simulation_number]['player2cc'],2))   # Player 1 cooperates, Player 2 cooperates\n",
    "    ]"
   ]
  },
  {
   "cell_type": "code",
   "execution_count": null,
   "id": "51090ff3-60f0-47b2-a04d-6230b3a95dce",
   "metadata": {},
   "outputs": [],
   "source": [
    "g = create_game(outcomes)\n",
    "solver = BackwardInductionSolver(g)\n",
    "solver.solve()\n",
    "solver.visualize_equilibrium()"
   ]
  },
  {
   "cell_type": "code",
   "execution_count": null,
   "id": "c4dba1f0-4188-42e9-9db0-3ffca6bf565f",
   "metadata": {},
   "outputs": [],
   "source": []
  }
 ],
 "metadata": {
  "kernelspec": {
   "display_name": "Python 3 (ipykernel)",
   "language": "python",
   "name": "python3"
  },
  "language_info": {
   "codemirror_mode": {
    "name": "ipython",
    "version": 3
   },
   "file_extension": ".py",
   "mimetype": "text/x-python",
   "name": "python",
   "nbconvert_exporter": "python",
   "pygments_lexer": "ipython3",
   "version": "3.12.2"
  }
 },
 "nbformat": 4,
 "nbformat_minor": 5
}

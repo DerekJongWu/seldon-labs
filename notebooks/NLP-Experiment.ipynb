{
 "cells": [
  {
   "cell_type": "markdown",
   "id": "07c8fbd8-458f-4b45-9008-071d55268721",
   "metadata": {},
   "source": [
    "# Experiment with NLP Techniques for Political texts"
   ]
  },
  {
   "cell_type": "code",
   "execution_count": null,
   "id": "9df9834f-cc01-4a9d-85b9-9d068d02c763",
   "metadata": {},
   "outputs": [],
   "source": [
    "import pandas as pd\n",
    "import re\n",
    "import string\n",
    "import nltk\n",
    "nltk.download('stopwords') \n",
    "nltk.download('punkt_tab')\n",
    "nltk.download('wordnet')\n",
    "from nltk.corpus import stopwords\n",
    "from wordcloud import WordCloud\n",
    "from nltk import ngrams\n",
    "import matplotlib.pyplot as plt \n",
    "import seaborn as sns\n",
    "import spacy\n",
    "import gensim\n",
    "from gensim.corpora import Dictionary\n",
    "from gensim.models import LdaModel, CoherenceModel, LsiModel, HdpModel"
   ]
  },
  {
   "cell_type": "code",
   "execution_count": null,
   "id": "1d70a3b3-b525-4047-94f9-709d8fdbde74",
   "metadata": {},
   "outputs": [],
   "source": [
    "person = 'DonaldTrump'"
   ]
  },
  {
   "cell_type": "code",
   "execution_count": null,
   "id": "d5235b94-f670-4375-9ee2-7181ef94d536",
   "metadata": {},
   "outputs": [],
   "source": [
    "data = pd.read_csv(f'/Users/derekwu/Desktop/datadescriptor_uselections2020/us2020data/data_clean/cspan/{person}/cleantext_{person}.tsv',sep='\\t')"
   ]
  },
  {
   "cell_type": "markdown",
   "id": "d6dd771c-9d51-4a86-9752-cbf8d81ecc99",
   "metadata": {},
   "source": [
    "## Data Preprocessing"
   ]
  },
  {
   "cell_type": "code",
   "execution_count": null,
   "id": "579f2c8e-4867-41a3-b61f-9f17129b5a84",
   "metadata": {},
   "outputs": [],
   "source": [
    "## TO DO, POS tagging and removal https://towardsdatascience.com/topic-modelling-in-python-with-spacy-and-gensim-dc8f7748bdbf/"
   ]
  },
  {
   "cell_type": "code",
   "execution_count": null,
   "id": "a32d646f-2d4d-4fe8-8297-183999ce776b",
   "metadata": {},
   "outputs": [],
   "source": [
    "nlp = spacy.load('en_core_web_sm')\n",
    "my_stop_words = ['movie']\n",
    "\n",
    "for stopword in my_stop_words:\n",
    "    lexeme = nlp.vocab[stopword]\n",
    "    lexeme.is_stop = True"
   ]
  },
  {
   "cell_type": "code",
   "execution_count": null,
   "id": "cc6ad950-9dfc-4993-9c06-0fd0622ff0a5",
   "metadata": {},
   "outputs": [],
   "source": [
    "removal= ['ADV','PRON','CCONJ','PUNCT','PART','DET','ADP','SPACE', 'NUM', 'SYM', \"VERB\"]\n",
    "\n",
    "tokens = []\n",
    "for summary in nlp.pipe(data['CleanText']):\n",
    "   proj_tok = [token.lemma_.lower() for token in summary if token.pos_ not in removal and not token.is_stop and token.is_alpha]\n",
    "   tokens.append(proj_tok)"
   ]
  },
  {
   "cell_type": "code",
   "execution_count": null,
   "id": "4e9c672b-8d9b-4fd3-9e95-42ce2c69d658",
   "metadata": {},
   "outputs": [],
   "source": [
    "data['tokens'] = tokens"
   ]
  },
  {
   "cell_type": "code",
   "execution_count": null,
   "id": "fd7a44f9-a019-475c-b67b-e655e13167ac",
   "metadata": {},
   "outputs": [],
   "source": [
    "corpus = ','.join(data[\"tokens\"].str.join(\" \"))"
   ]
  },
  {
   "cell_type": "markdown",
   "id": "15732b3a-c9f7-4d71-85be-9a7b87584875",
   "metadata": {},
   "source": [
    "## Word Cloud"
   ]
  },
  {
   "cell_type": "code",
   "execution_count": null,
   "id": "319c9f42-60a5-4c3d-ad84-6d1d97d2a48e",
   "metadata": {},
   "outputs": [],
   "source": [
    "wordcloud = WordCloud(background_color=\"white\", max_words=5000, contour_width=3, contour_color='steelblue')\n",
    "# Generate a word cloud\n",
    "wordcloud.generate(corpus)\n",
    "# Visualize the word cloud\n",
    "wordcloud.to_image()"
   ]
  },
  {
   "cell_type": "markdown",
   "id": "171a5b35-bb46-4b10-8536-d440205d0436",
   "metadata": {},
   "source": [
    "## Word/Ngram Frequencies"
   ]
  },
  {
   "cell_type": "code",
   "execution_count": null,
   "id": "fcf42904-472f-49fa-957b-850692c5feac",
   "metadata": {},
   "outputs": [],
   "source": [
    "# visulaize common words\n",
    "def visualize_common(corpus, n: int, records):\n",
    "\n",
    "    # get common words\n",
    "    mostCommon = nltk.FreqDist(ngrams(corpus.split(), n))\n",
    "\n",
    "    # get words and dictionary\n",
    "    words = []\n",
    "    freq = []\n",
    "    for key in mostCommon: \n",
    "        words.append(\" \".join(key))\n",
    "        freq.append(mostCommon[key])\n",
    "    \n",
    "    return words[:records], freq[:records]\n",
    "\n",
    "# common words Unigram\n",
    "uni_word, uni_freq = visualize_common(corpus, 1, 25)\n",
    "\n",
    "# plot\n",
    "plt.rcParams[\"figure.figsize\"] = [8, 6]\n",
    "plt.rcParams[\"figure.autolayout\"] = True\n",
    "sns.barplot(x=uni_freq, y=uni_word, color='black')\n",
    "plt.title('Top 25 Most Frequently Occuring Words')\n",
    "plt.show()\n",
    "\n",
    "# commong words bigram\n",
    "bi_word, bi_freq = visualize_common(corpus, 2, 25)\n",
    "bi_word = list(map(lambda x: x.replace('_', ' '), bi_word))\n",
    "\n",
    "# plot\n",
    "plt.rcParams[\"figure.figsize\"] = [8, 6]\n",
    "plt.rcParams[\"figure.autolayout\"] = True\n",
    "sns.barplot(x=bi_freq, y=bi_word, color='black')\n",
    "plt.title('Top 25 Most Frequently Occuring Words')\n",
    "plt.show()\n",
    "\n",
    "# commong words trigram\n",
    "tri_word, tri_freq = visualize_common(corpus, 3, 25)\n",
    "tri_word = list(map(lambda x: x.replace('_', ' '), tri_word))\n",
    "\n",
    "# plot\n",
    "plt.rcParams[\"figure.figsize\"] = [8, 6]\n",
    "plt.rcParams[\"figure.autolayout\"] = True\n",
    "sns.barplot(x=tri_freq, y=tri_word, color='black')\n",
    "plt.title('Top 25 Most Frequently Occuring Words')\n",
    "plt.show()\n"
   ]
  },
  {
   "cell_type": "markdown",
   "id": "22887a6c-a1dc-4185-a528-3856ec418634",
   "metadata": {},
   "source": [
    "## Topic Modeling"
   ]
  },
  {
   "cell_type": "markdown",
   "id": "69285597-77c4-4722-a25b-79ac19c6807a",
   "metadata": {},
   "source": [
    "#### TF-IDF"
   ]
  },
  {
   "cell_type": "code",
   "execution_count": null,
   "id": "bfde6bb2-fa20-46f3-a944-50dc35f913ae",
   "metadata": {},
   "outputs": [],
   "source": [
    "from sklearn.feature_extraction.text import TfidfVectorizer\n",
    "from sklearn.feature_extraction.text import CountVectorizer\n",
    "import pandas as pd\n",
    "pd.set_option(\"display.max_rows\", 600)\n",
    "from sklearn.decomposition import PCA\n",
    "from sklearn.manifold import TSNE"
   ]
  },
  {
   "cell_type": "code",
   "execution_count": null,
   "id": "1c15215e-3ffc-4ca6-a6e8-7e145bfe80da",
   "metadata": {},
   "outputs": [],
   "source": [
    "documents = data[\"tokens\"].str.join(\" \").copy()"
   ]
  },
  {
   "cell_type": "code",
   "execution_count": null,
   "id": "e6be9525-b7ca-40f7-a555-48207b5bea42",
   "metadata": {},
   "outputs": [],
   "source": [
    "vectorizer = TfidfVectorizer(stop_words='english')\n",
    "tfidf_matrix = vectorizer.fit_transform(documents)"
   ]
  },
  {
   "cell_type": "code",
   "execution_count": null,
   "id": "46d30c07-3816-4b68-93ee-fbdbd668656c",
   "metadata": {},
   "outputs": [],
   "source": [
    "tfidf_df = pd.DataFrame(tfidf_matrix.toarray(), columns=vectorizer.get_feature_names_out())"
   ]
  },
  {
   "cell_type": "code",
   "execution_count": null,
   "id": "02c716e7-acb0-480b-8b3b-7ac4929adf78",
   "metadata": {},
   "outputs": [],
   "source": [
    "tfidf_df = tfidf_df.stack().reset_index()\n",
    "tfidf_df = tfidf_df.rename(columns={0:'tfidf', 'level_0': 'document','level_1': 'term', 'level_2': 'term'})"
   ]
  },
  {
   "cell_type": "code",
   "execution_count": null,
   "id": "809ab129-fb20-4f05-8e0d-285288391562",
   "metadata": {},
   "outputs": [],
   "source": [
    "tfidf_df.sort_values(by=['document','tfidf'], ascending=[True,False]).groupby(['document']).head(10)"
   ]
  },
  {
   "cell_type": "code",
   "execution_count": null,
   "id": "e4033772-138e-4837-bcf8-23e38b0d76ca",
   "metadata": {},
   "outputs": [],
   "source": [
    "top_tfidf = tfidf_df.sort_values(by=['document','tfidf'], ascending=[True,False]).groupby(['document']).head(10)"
   ]
  },
  {
   "cell_type": "code",
   "execution_count": null,
   "id": "15054031-9810-4e91-bf61-968b8bf47b80",
   "metadata": {},
   "outputs": [],
   "source": [
    "top_tfidf[top_tfidf['term'].str.contains('missile')] # can zoom in on specific words"
   ]
  },
  {
   "cell_type": "code",
   "execution_count": null,
   "id": "9915189a-0d52-4bf1-ac98-7a6179aefd8e",
   "metadata": {},
   "outputs": [],
   "source": [
    "#top_tfidf[top_tfidf['document'].str.contains('kennedy')] # can zoom in on a specific speech if I record the speech name"
   ]
  },
  {
   "cell_type": "code",
   "execution_count": null,
   "id": "ef1138a4-683f-49c8-9231-98cde84d910e",
   "metadata": {},
   "outputs": [],
   "source": [
    "import altair as alt\n",
    "import numpy as np\n",
    "\n",
    "# Terms in this list will get a red dot in the visualization\n",
    "term_list = ['missle', 'election']\n",
    "\n",
    "# adding a little randomness to break ties in term ranking\n",
    "top_tfidf_plusRand = top_tfidf.copy()\n",
    "top_tfidf_plusRand['tfidf'] = top_tfidf_plusRand['tfidf'] + np.random.rand(top_tfidf.shape[0])*0.0001\n",
    "\n",
    "# base for all visualizations, with rank calculation\n",
    "base = alt.Chart(top_tfidf_plusRand).encode(\n",
    "    x = 'rank:O',\n",
    "    y = 'document:N'\n",
    ").transform_window(\n",
    "    rank = \"rank()\",\n",
    "    sort = [alt.SortField(\"tfidf\", order=\"descending\")],\n",
    "    groupby = [\"document\"],\n",
    ")\n",
    "\n",
    "# heatmap specification\n",
    "heatmap = base.mark_rect().encode(\n",
    "    color = 'tfidf:Q'\n",
    ")\n",
    "\n",
    "# red circle over terms in above list\n",
    "circle = base.mark_circle(size=100).encode(\n",
    "    color = alt.condition(\n",
    "        alt.FieldOneOfPredicate(field='term', oneOf=term_list),\n",
    "        alt.value('red'),\n",
    "        alt.value('#FFFFFF00')        \n",
    "    )\n",
    ")\n",
    "\n",
    "# text labels, white for darker heatmap colors\n",
    "text = base.mark_text(baseline='middle').encode(\n",
    "    text = 'term:N',\n",
    "    color = alt.condition(alt.datum.tfidf >= 0.23, alt.value('white'), alt.value('black'))\n",
    ")\n",
    "\n",
    "# display the three superimposed visualizations\n",
    "(heatmap + circle + text).properties(width = 600)"
   ]
  },
  {
   "cell_type": "markdown",
   "id": "2219038c-a04f-4ac5-8229-ed259d3ec388",
   "metadata": {},
   "source": [
    "#### LDA"
   ]
  },
  {
   "cell_type": "code",
   "execution_count": null,
   "id": "b628b49a-e0db-4f92-a055-8de4e8fff024",
   "metadata": {},
   "outputs": [],
   "source": [
    "texts = data.tokens\n",
    "bigram = gensim.models.phrases.Phrases(texts)\n",
    "texts = [bigram[line] for line in texts]"
   ]
  },
  {
   "cell_type": "code",
   "execution_count": null,
   "id": "86824a5d-8ad9-4dc3-afac-35f0db2bf715",
   "metadata": {},
   "outputs": [],
   "source": [
    "dictionary = Dictionary(texts)\n",
    "corpus = [dictionary.doc2bow(text) for text in texts]"
   ]
  },
  {
   "cell_type": "code",
   "execution_count": null,
   "id": "f157660c-6b87-4849-8d5f-8e333fff0f47",
   "metadata": {},
   "outputs": [],
   "source": [
    "lda_model = LdaModel(corpus=corpus, num_topics=10, id2word=dictionary)\n",
    "lda_model.show_topics()"
   ]
  },
  {
   "cell_type": "code",
   "execution_count": null,
   "id": "96af4de0-a4eb-4a6f-9126-e8981b7d21c2",
   "metadata": {},
   "outputs": [],
   "source": [
    "import pyLDAvis\n",
    "import pyLDAvis.gensim_models\n",
    "\n",
    "pyLDAvis.enable_notebook()\n",
    "pyLDAvis.gensim_models.prepare(lda_model, corpus, dictionary)"
   ]
  },
  {
   "cell_type": "markdown",
   "id": "e3db59fd-2a71-404f-a59f-30dc12a18108",
   "metadata": {},
   "source": [
    "#### BERTopic"
   ]
  },
  {
   "cell_type": "code",
   "execution_count": null,
   "id": "1ae86028-b0e5-4f3b-9afd-ca312384444e",
   "metadata": {},
   "outputs": [],
   "source": []
  },
  {
   "cell_type": "code",
   "execution_count": null,
   "id": "5d8a6b0a-c3db-410f-868b-884ca4d96a0f",
   "metadata": {},
   "outputs": [],
   "source": [
    "## Coorelation of words (be able to search specific words) \n",
    "## Word connection graph? "
   ]
  },
  {
   "cell_type": "code",
   "execution_count": null,
   "id": "877ac83c-e28d-4dcb-b705-1aa81a021802",
   "metadata": {},
   "outputs": [],
   "source": []
  },
  {
   "cell_type": "code",
   "execution_count": null,
   "id": "f02c8077-0258-48d7-a1ab-f0f586cd40e0",
   "metadata": {},
   "outputs": [],
   "source": [
    "# Event extraction? Stanza/Spacy package "
   ]
  },
  {
   "cell_type": "code",
   "execution_count": null,
   "id": "256273ec-4797-41e0-9345-791ce9344cbd",
   "metadata": {},
   "outputs": [],
   "source": [
    "# Sentiment analysis/text classification (60% authoritariaism, 40% facist)"
   ]
  },
  {
   "cell_type": "code",
   "execution_count": null,
   "id": "e0059b95-bd95-400a-9e30-20240b2052a8",
   "metadata": {},
   "outputs": [],
   "source": [
    "# Tracking topic modeling? \n",
    "# Matching text -> similiarty to previous presidents (clustering) "
   ]
  }
 ],
 "metadata": {
  "kernelspec": {
   "display_name": "Python 3 (ipykernel)",
   "language": "python",
   "name": "python3"
  },
  "language_info": {
   "codemirror_mode": {
    "name": "ipython",
    "version": 3
   },
   "file_extension": ".py",
   "mimetype": "text/x-python",
   "name": "python",
   "nbconvert_exporter": "python",
   "pygments_lexer": "ipython3",
   "version": "3.12.2"
  }
 },
 "nbformat": 4,
 "nbformat_minor": 5
}
